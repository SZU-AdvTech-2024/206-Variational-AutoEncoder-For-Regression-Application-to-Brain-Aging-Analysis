{
 "cells": [
  {
   "cell_type": "code",
   "execution_count": 17,
   "id": "d5923520-3d86-47ff-ad8a-55df4232cf50",
   "metadata": {},
   "outputs": [],
   "source": [
    "import torch\n",
    "import torchvision\n",
    "from torchvision import transforms\n",
    "from torch.utils.data import DataLoader\n",
    "import matplotlib.pyplot as plt\n",
    "from torchvision import datasets, transforms\n",
    "import os\n",
    "import numpy as np\n",
    "import torch.nn as nn\n",
    "from torch.utils.data import DataLoader\n",
    "import torchvision.transforms as transforms\n",
    "import torch.optim as optim\n",
    "from matplotlib import pyplot as plt\n",
    "import torchvision.models as models\n",
    "import random\n",
    "from PIL import Image\n",
    "from torch.utils.data import Dataset"
   ]
  },
  {
   "cell_type": "code",
   "execution_count": 18,
   "id": "59793afc-4ded-4135-8384-df65a139cc6c",
   "metadata": {},
   "outputs": [
    {
     "name": "stdout",
     "output_type": "stream",
     "text": [
      "Sorted Classes: ['-250', '-249', '-248', '-247', '-246', '-245', '-244', '-243', '-242', '-241', '-240', '-239', '-238', '-237', '-236', '-235', '-234', '-233', '-232', '-231', '-230', '-229', '-228', '-227', '-226', '-225', '-224', '-223', '-222', '-221', '-220', '-219', '-218', '-217', '-216', '-215', '-214', '-213', '-212', '-211', '-210', '-209', '-208', '-207', '-206', '-205', '-204', '-203', '-202', '-201', '-200', '-199', '-198', '-197', '-196', '-195', '-194', '-193', '-192', '-191', '-190', '-189', '-188', '-187', '-186', '-185', '-184', '-183', '-182', '-181', '-180', '-179', '-178', '-177', '-176', '-175', '-174', '-173', '-172', '-171', '-170', '-169', '-168', '-167', '-166', '-165', '-164', '-163', '-162', '-161', '-160', '-159', '-158', '-157', '-156', '-155', '-154', '-153', '-152', '-151', '-150', '-149', '-148', '-147', '-146', '-145', '-144', '-143', '-142', '-141', '-140', '-139', '-138', '-137', '-136', '-135', '-134', '-133', '-132', '-131', '-130', '-129', '-128', '-127', '-126', '-125', '-124', '-123', '-122', '-121', '-120', '-119', '-118', '-117', '-116', '-115', '-114', '-113', '-112', '-111', '-110', '-109', '-108', '-107', '-106', '-105', '-104', '-103', '-102', '-101', '-100', '-99', '-98', '-97', '-96', '-95', '-94', '-93', '-92', '-91', '-90', '-89', '-88', '-87', '-86', '-85', '-84', '-83', '-82', '-81', '-80', '-79', '-78', '-77', '-76', '-75', '-74', '-73', '-72', '-71', '-70', '-69', '-68', '-67', '-66', '-65', '-64', '-63', '-62', '-61', '-60', '-59', '-58', '-57', '-56', '-55', '-54', '-53', '-52', '-51', '-50', '-49', '-48', '-47', '-46', '-45', '-44', '-43', '-42', '-41', '-40', '-39', '-38', '-37', '-36', '-35', '-34', '-33', '-32', '-31', '-30', '-29', '-28', '-27', '-26', '-25', '-24', '-23', '-22', '-21', '-20', '-19', '-18', '-17', '-16', '-15', '-14', '-13', '-12', '-11', '-10', '-9', '-8', '-7', '-6', '-5', '-4', '-3', '-2', '-1', '0', '1', '2', '3', '4', '5', '6', '7', '8', '9', '10', '11', '12', '13', '14', '15', '16', '17', '18', '19', '20', '21', '22', '23', '24', '25', '26', '27', '28', '29', '30', '31', '32', '33', '34', '35', '36', '37', '38', '39', '40', '41', '42', '43', '44', '45', '46', '47', '48', '49', '50', '51', '52', '53', '54', '55', '56', '57', '58', '59', '60', '61', '62', '63', '64', '65', '66', '67', '68', '69', '70', '71', '72', '73', '74', '75', '76', '77', '78', '79', '80', '81', '82', '83', '84', '85', '86', '87', '88', '89', '90', '91', '92', '93', '94', '95', '96', '97', '98', '99', '100', '101', '102', '103', '104', '105', '106', '107', '108', '109', '110', '111', '112', '113', '114', '115', '116', '117', '118', '119', '120', '121', '122', '123', '124', '125', '126', '127', '128', '129', '130', '131', '132', '133', '134', '135', '136', '137', '138', '139', '140', '141', '142', '143', '144', '145', '146', '147', '148', '149', '150', '151', '152', '153', '154', '155', '156', '157', '158', '159', '160', '161', '162', '163', '164', '165', '166', '167', '168', '169', '170', '171', '172', '173', '174', '175', '176', '177', '178', '179', '180', '181', '182', '183', '184', '185', '186', '187', '188', '189', '190', '191', '192', '193', '194', '195', '196', '197', '198', '199', '200', '201', '202', '203', '204', '205', '206', '207', '208', '209', '210', '211', '212', '213', '214', '215', '216', '217', '218', '219', '220', '221', '222', '223', '224', '225', '226', '227', '228', '229', '230', '231', '232', '233', '234', '235', '236', '237', '238', '239', '240', '241', '242', '243', '244', '245', '246', '247', '248', '249', '250']\n",
      "训练集大小: 20040\n",
      "测试集大小: 5010\n"
     ]
    }
   ],
   "source": [
    "# 设置数据集路径\n",
    "total_dir = \"/Users/fcccasa/Downloads/R/img\"\n",
    "\n",
    "# 定义数据预处理\n",
    "transform = transforms.Compose([\n",
    "    transforms.Resize((224, 224)),\n",
    "    transforms.ToTensor(),\n",
    "    # transforms.Normalize(mean=[0.5, 0.5, 0.5], std=[0.5, 0.5, 0.5])\n",
    "])\n",
    "\n",
    "# 加载数据集\n",
    "total_data = datasets.ImageFolder(total_dir, transform)\n",
    "\n",
    "# 获取类别并按数字顺序排序\n",
    "def sort_key(class_name):\n",
    "    # 尝试将类别名称转换为整数，若失败则返回原字符串\n",
    "    try:\n",
    "        return int(class_name)  # 如果类别是数字，则按数字排序\n",
    "    except ValueError:\n",
    "        return class_name  # 如果类别是非数字，则按字母排序\n",
    "\n",
    "sorted_classes = sorted(total_data.classes, key=sort_key)\n",
    "\n",
    "# 更新 ImageFolder 的 class_to_idx 字典\n",
    "total_data.class_to_idx = {cls: idx for idx, cls in enumerate(sorted_classes)}\n",
    "\n",
    "print(\"Sorted Classes:\", sorted_classes)\n",
    "\n",
    "# 使用排序后的类名创建训练集和测试集索引\n",
    "train_indices = []\n",
    "test_indices = []\n",
    "\n",
    "# 遍历数据集中的每个类别（文件夹）\n",
    "for class_idx in range(len(sorted_classes)):\n",
    "    # 获取当前类别所有图像的索引\n",
    "    class_indices = [i for i, label in enumerate(total_data.targets) if label == class_idx]\n",
    "    \n",
    "    # 分割：前40个图像为训练集，剩下的为测试集\n",
    "    train_indices.extend(class_indices[:40])\n",
    "    test_indices.extend(class_indices[40:])\n",
    "\n",
    "# 使用索引创建训练集和测试集\n",
    "train_dataset = torch.utils.data.Subset(total_data, train_indices)\n",
    "test_dataset = torch.utils.data.Subset(total_data, test_indices)\n",
    "\n",
    "# 打印训练集和测试集的大小\n",
    "print(f'训练集大小: {len(train_dataset)}')\n",
    "print(f'测试集大小: {len(test_dataset)}')\n"
   ]
  },
  {
   "cell_type": "code",
   "execution_count": 19,
   "id": "f864c727-bb31-43c5-988d-62be8f0aaf47",
   "metadata": {},
   "outputs": [],
   "source": [
    "train_dataloader = DataLoader(train_dataset, batch_size=40, shuffle=True, num_workers=1)\n",
    "test_dataloader = DataLoader(test_dataset, batch_size=10, shuffle=False, num_workers=1)\n"
   ]
  },
  {
   "cell_type": "code",
   "execution_count": 20,
   "id": "667388f8-0d51-4394-8237-4a54da9ad25a",
   "metadata": {},
   "outputs": [],
   "source": [
    "# 初始化\n",
    "num_classes = 1\n",
    "\n",
    "MAX_EPOCH = 20     \n",
    "LR = 0.001         \n",
    "log_interval = 10    # 每隔 1 个 训练批次（或 epoch）记录一次训练日志。 表示训练过程中，控制打印训练信息的频率。\n",
    "val_interval = 1    # 每隔 1 个 epoch 进行一次验证集的评估。验证集的评估是为了监控模型在验证集上的表现，从而避免过拟合。\n",
    "classes = 1         # 分类任务的类别数为 2。\n",
    "start_epoch = -1     \n",
    "lr_decay_step = 10   # 表示学习率的衰减步长。 每隔一定的 epoch（如 1）对学习率进行衰减，通常是为了使模型在后期更稳定地收敛。\n",
    "                    # 可结合优化器的学习率调度策略（如 StepLR）使用。"
   ]
  },
  {
   "cell_type": "code",
   "execution_count": 21,
   "id": "cbfc89b8-b6c6-45cb-9819-57384df65e2d",
   "metadata": {},
   "outputs": [
    {
     "name": "stdout",
     "output_type": "stream",
     "text": [
      "512\n"
     ]
    },
    {
     "data": {
      "text/plain": [
       "ResNet(\n",
       "  (conv1): Conv2d(3, 64, kernel_size=(7, 7), stride=(2, 2), padding=(3, 3), bias=False)\n",
       "  (bn1): BatchNorm2d(64, eps=1e-05, momentum=0.1, affine=True, track_running_stats=True)\n",
       "  (relu): ReLU(inplace=True)\n",
       "  (maxpool): MaxPool2d(kernel_size=3, stride=2, padding=1, dilation=1, ceil_mode=False)\n",
       "  (layer1): Sequential(\n",
       "    (0): BasicBlock(\n",
       "      (conv1): Conv2d(64, 64, kernel_size=(3, 3), stride=(1, 1), padding=(1, 1), bias=False)\n",
       "      (bn1): BatchNorm2d(64, eps=1e-05, momentum=0.1, affine=True, track_running_stats=True)\n",
       "      (relu): ReLU(inplace=True)\n",
       "      (conv2): Conv2d(64, 64, kernel_size=(3, 3), stride=(1, 1), padding=(1, 1), bias=False)\n",
       "      (bn2): BatchNorm2d(64, eps=1e-05, momentum=0.1, affine=True, track_running_stats=True)\n",
       "    )\n",
       "    (1): BasicBlock(\n",
       "      (conv1): Conv2d(64, 64, kernel_size=(3, 3), stride=(1, 1), padding=(1, 1), bias=False)\n",
       "      (bn1): BatchNorm2d(64, eps=1e-05, momentum=0.1, affine=True, track_running_stats=True)\n",
       "      (relu): ReLU(inplace=True)\n",
       "      (conv2): Conv2d(64, 64, kernel_size=(3, 3), stride=(1, 1), padding=(1, 1), bias=False)\n",
       "      (bn2): BatchNorm2d(64, eps=1e-05, momentum=0.1, affine=True, track_running_stats=True)\n",
       "    )\n",
       "  )\n",
       "  (layer2): Sequential(\n",
       "    (0): BasicBlock(\n",
       "      (conv1): Conv2d(64, 128, kernel_size=(3, 3), stride=(2, 2), padding=(1, 1), bias=False)\n",
       "      (bn1): BatchNorm2d(128, eps=1e-05, momentum=0.1, affine=True, track_running_stats=True)\n",
       "      (relu): ReLU(inplace=True)\n",
       "      (conv2): Conv2d(128, 128, kernel_size=(3, 3), stride=(1, 1), padding=(1, 1), bias=False)\n",
       "      (bn2): BatchNorm2d(128, eps=1e-05, momentum=0.1, affine=True, track_running_stats=True)\n",
       "      (downsample): Sequential(\n",
       "        (0): Conv2d(64, 128, kernel_size=(1, 1), stride=(2, 2), bias=False)\n",
       "        (1): BatchNorm2d(128, eps=1e-05, momentum=0.1, affine=True, track_running_stats=True)\n",
       "      )\n",
       "    )\n",
       "    (1): BasicBlock(\n",
       "      (conv1): Conv2d(128, 128, kernel_size=(3, 3), stride=(1, 1), padding=(1, 1), bias=False)\n",
       "      (bn1): BatchNorm2d(128, eps=1e-05, momentum=0.1, affine=True, track_running_stats=True)\n",
       "      (relu): ReLU(inplace=True)\n",
       "      (conv2): Conv2d(128, 128, kernel_size=(3, 3), stride=(1, 1), padding=(1, 1), bias=False)\n",
       "      (bn2): BatchNorm2d(128, eps=1e-05, momentum=0.1, affine=True, track_running_stats=True)\n",
       "    )\n",
       "  )\n",
       "  (layer3): Sequential(\n",
       "    (0): BasicBlock(\n",
       "      (conv1): Conv2d(128, 256, kernel_size=(3, 3), stride=(2, 2), padding=(1, 1), bias=False)\n",
       "      (bn1): BatchNorm2d(256, eps=1e-05, momentum=0.1, affine=True, track_running_stats=True)\n",
       "      (relu): ReLU(inplace=True)\n",
       "      (conv2): Conv2d(256, 256, kernel_size=(3, 3), stride=(1, 1), padding=(1, 1), bias=False)\n",
       "      (bn2): BatchNorm2d(256, eps=1e-05, momentum=0.1, affine=True, track_running_stats=True)\n",
       "      (downsample): Sequential(\n",
       "        (0): Conv2d(128, 256, kernel_size=(1, 1), stride=(2, 2), bias=False)\n",
       "        (1): BatchNorm2d(256, eps=1e-05, momentum=0.1, affine=True, track_running_stats=True)\n",
       "      )\n",
       "    )\n",
       "    (1): BasicBlock(\n",
       "      (conv1): Conv2d(256, 256, kernel_size=(3, 3), stride=(1, 1), padding=(1, 1), bias=False)\n",
       "      (bn1): BatchNorm2d(256, eps=1e-05, momentum=0.1, affine=True, track_running_stats=True)\n",
       "      (relu): ReLU(inplace=True)\n",
       "      (conv2): Conv2d(256, 256, kernel_size=(3, 3), stride=(1, 1), padding=(1, 1), bias=False)\n",
       "      (bn2): BatchNorm2d(256, eps=1e-05, momentum=0.1, affine=True, track_running_stats=True)\n",
       "    )\n",
       "  )\n",
       "  (layer4): Sequential(\n",
       "    (0): BasicBlock(\n",
       "      (conv1): Conv2d(256, 512, kernel_size=(3, 3), stride=(2, 2), padding=(1, 1), bias=False)\n",
       "      (bn1): BatchNorm2d(512, eps=1e-05, momentum=0.1, affine=True, track_running_stats=True)\n",
       "      (relu): ReLU(inplace=True)\n",
       "      (conv2): Conv2d(512, 512, kernel_size=(3, 3), stride=(1, 1), padding=(1, 1), bias=False)\n",
       "      (bn2): BatchNorm2d(512, eps=1e-05, momentum=0.1, affine=True, track_running_stats=True)\n",
       "      (downsample): Sequential(\n",
       "        (0): Conv2d(256, 512, kernel_size=(1, 1), stride=(2, 2), bias=False)\n",
       "        (1): BatchNorm2d(512, eps=1e-05, momentum=0.1, affine=True, track_running_stats=True)\n",
       "      )\n",
       "    )\n",
       "    (1): BasicBlock(\n",
       "      (conv1): Conv2d(512, 512, kernel_size=(3, 3), stride=(1, 1), padding=(1, 1), bias=False)\n",
       "      (bn1): BatchNorm2d(512, eps=1e-05, momentum=0.1, affine=True, track_running_stats=True)\n",
       "      (relu): ReLU(inplace=True)\n",
       "      (conv2): Conv2d(512, 512, kernel_size=(3, 3), stride=(1, 1), padding=(1, 1), bias=False)\n",
       "      (bn2): BatchNorm2d(512, eps=1e-05, momentum=0.1, affine=True, track_running_stats=True)\n",
       "    )\n",
       "  )\n",
       "  (avgpool): AdaptiveAvgPool2d(output_size=(1, 1))\n",
       "  (fc): Sequential(\n",
       "    (0): Linear(in_features=512, out_features=128, bias=True)\n",
       "    (1): ReLU()\n",
       "    (2): Linear(in_features=128, out_features=1, bias=True)\n",
       "  )\n",
       ")"
      ]
     },
     "execution_count": 21,
     "metadata": {},
     "output_type": "execute_result"
    }
   ],
   "source": [
    "device = device = torch.device(\"mps\")\n",
    "res_model = models.resnet18(pretrained=True)  # 使用预训练权重\n",
    "# 获取 ResNet 的最后一层输入特征数\n",
    "num_ftrs = res_model.fc.in_features  # 获取fc层的输入特征数\n",
    "res_model.fc = nn.Sequential(\n",
    "    nn.Linear(num_ftrs, 128),           # 将输入特征维度映射到4096\n",
    "    nn.ReLU(),\n",
    "    nn.Linear(128, 1)                    # 输出为1，进行回归预测任务\n",
    ")\n",
    "print(num_ftrs)\n",
    "res_model.to(device)"
   ]
  },
  {
   "cell_type": "code",
   "execution_count": 22,
   "id": "3b42f2e5-0b44-4c2c-bbac-1f7e28a75212",
   "metadata": {},
   "outputs": [],
   "source": [
    "criterion = nn.L1Loss()"
   ]
  },
  {
   "cell_type": "code",
   "execution_count": 23,
   "id": "140f3afe-9016-403c-826f-d100780e275d",
   "metadata": {},
   "outputs": [],
   "source": [
    "optimizer = torch.optim.Adam(res_model.parameters(), lr=LR)\n",
    "scheduler = torch.optim.lr_scheduler.StepLR(optimizer, step_size=lr_decay_step, gamma=0.1)"
   ]
  },
  {
   "cell_type": "code",
   "execution_count": 24,
   "id": "7b27dec8-da9c-445d-a202-2ace741bceae",
   "metadata": {},
   "outputs": [
    {
     "name": "stderr",
     "output_type": "stream",
     "text": [
      "python(48227) MallocStackLogging: can't turn off malloc stack logging because it was not enabled.\n"
     ]
    },
    {
     "name": "stdout",
     "output_type": "stream",
     "text": [
      "Training: Epoch[000/020] Iteration[010/501] Loss: 238.8234\n",
      "Training: Epoch[000/020] Iteration[020/501] Loss: 208.3223\n",
      "Training: Epoch[000/020] Iteration[030/501] Loss: 187.8736\n",
      "Training: Epoch[000/020] Iteration[040/501] Loss: 146.2350\n",
      "Training: Epoch[000/020] Iteration[050/501] Loss: 81.2386\n",
      "Training: Epoch[000/020] Iteration[060/501] Loss: 50.6772\n",
      "Training: Epoch[000/020] Iteration[070/501] Loss: 43.5607\n",
      "Training: Epoch[000/020] Iteration[080/501] Loss: 45.5455\n",
      "Training: Epoch[000/020] Iteration[090/501] Loss: 40.0129\n",
      "Training: Epoch[000/020] Iteration[100/501] Loss: 34.9232\n",
      "Training: Epoch[000/020] Iteration[110/501] Loss: 32.0094\n",
      "Training: Epoch[000/020] Iteration[120/501] Loss: 38.4783\n",
      "Training: Epoch[000/020] Iteration[130/501] Loss: 32.1578\n",
      "Training: Epoch[000/020] Iteration[140/501] Loss: 30.7788\n",
      "Training: Epoch[000/020] Iteration[150/501] Loss: 33.4160\n",
      "Training: Epoch[000/020] Iteration[160/501] Loss: 26.5570\n",
      "Training: Epoch[000/020] Iteration[170/501] Loss: 23.9600\n",
      "Training: Epoch[000/020] Iteration[180/501] Loss: 27.8293\n",
      "Training: Epoch[000/020] Iteration[190/501] Loss: 31.1418\n",
      "Training: Epoch[000/020] Iteration[200/501] Loss: 32.0184\n",
      "Training: Epoch[000/020] Iteration[210/501] Loss: 26.8587\n",
      "Training: Epoch[000/020] Iteration[220/501] Loss: 28.1053\n",
      "Training: Epoch[000/020] Iteration[230/501] Loss: 24.3804\n",
      "Training: Epoch[000/020] Iteration[240/501] Loss: 25.7295\n",
      "Training: Epoch[000/020] Iteration[250/501] Loss: 28.8126\n",
      "Training: Epoch[000/020] Iteration[260/501] Loss: 29.4857\n",
      "Training: Epoch[000/020] Iteration[270/501] Loss: 21.5771\n",
      "Training: Epoch[000/020] Iteration[280/501] Loss: 25.5008\n",
      "Training: Epoch[000/020] Iteration[290/501] Loss: 27.2795\n",
      "Training: Epoch[000/020] Iteration[300/501] Loss: 31.6328\n",
      "Training: Epoch[000/020] Iteration[310/501] Loss: 25.9707\n",
      "Training: Epoch[000/020] Iteration[320/501] Loss: 26.7169\n",
      "Training: Epoch[000/020] Iteration[330/501] Loss: 25.6471\n",
      "Training: Epoch[000/020] Iteration[340/501] Loss: 29.6686\n",
      "Training: Epoch[000/020] Iteration[350/501] Loss: 28.9804\n",
      "Training: Epoch[000/020] Iteration[360/501] Loss: 24.2977\n",
      "Training: Epoch[000/020] Iteration[370/501] Loss: 29.0414\n",
      "Training: Epoch[000/020] Iteration[380/501] Loss: 29.0803\n",
      "Training: Epoch[000/020] Iteration[390/501] Loss: 23.7049\n",
      "Training: Epoch[000/020] Iteration[400/501] Loss: 27.4044\n",
      "Training: Epoch[000/020] Iteration[410/501] Loss: 23.2604\n",
      "Training: Epoch[000/020] Iteration[420/501] Loss: 26.7032\n",
      "Training: Epoch[000/020] Iteration[430/501] Loss: 19.9617\n",
      "Training: Epoch[000/020] Iteration[440/501] Loss: 23.4722\n",
      "Training: Epoch[000/020] Iteration[450/501] Loss: 23.3463\n",
      "Training: Epoch[000/020] Iteration[460/501] Loss: 27.2488\n",
      "Training: Epoch[000/020] Iteration[470/501] Loss: 27.4930\n",
      "Training: Epoch[000/020] Iteration[480/501] Loss: 26.7887\n",
      "Training: Epoch[000/020] Iteration[490/501] Loss: 21.4201\n",
      "Training: Epoch[000/020] Iteration[500/501] Loss: 21.5123\n"
     ]
    },
    {
     "name": "stderr",
     "output_type": "stream",
     "text": [
      "python(48800) MallocStackLogging: can't turn off malloc stack logging because it was not enabled.\n"
     ]
    },
    {
     "name": "stdout",
     "output_type": "stream",
     "text": [
      "Valid: Epoch[000/020] Iteration[501/501] Loss: 20.9481\n"
     ]
    },
    {
     "name": "stderr",
     "output_type": "stream",
     "text": [
      "python(48897) MallocStackLogging: can't turn off malloc stack logging because it was not enabled.\n"
     ]
    },
    {
     "name": "stdout",
     "output_type": "stream",
     "text": [
      "Training: Epoch[001/020] Iteration[010/501] Loss: 22.0532\n",
      "Training: Epoch[001/020] Iteration[020/501] Loss: 27.7960\n",
      "Training: Epoch[001/020] Iteration[030/501] Loss: 18.9813\n",
      "Training: Epoch[001/020] Iteration[040/501] Loss: 25.1819\n",
      "Training: Epoch[001/020] Iteration[050/501] Loss: 20.7939\n",
      "Training: Epoch[001/020] Iteration[060/501] Loss: 22.0902\n",
      "Training: Epoch[001/020] Iteration[070/501] Loss: 18.3003\n",
      "Training: Epoch[001/020] Iteration[080/501] Loss: 21.3319\n",
      "Training: Epoch[001/020] Iteration[090/501] Loss: 25.1870\n",
      "Training: Epoch[001/020] Iteration[100/501] Loss: 24.5501\n",
      "Training: Epoch[001/020] Iteration[110/501] Loss: 25.8687\n",
      "Training: Epoch[001/020] Iteration[120/501] Loss: 22.0448\n",
      "Training: Epoch[001/020] Iteration[130/501] Loss: 20.6532\n",
      "Training: Epoch[001/020] Iteration[140/501] Loss: 23.2834\n",
      "Training: Epoch[001/020] Iteration[150/501] Loss: 26.0089\n",
      "Training: Epoch[001/020] Iteration[160/501] Loss: 21.1507\n",
      "Training: Epoch[001/020] Iteration[170/501] Loss: 22.9160\n",
      "Training: Epoch[001/020] Iteration[180/501] Loss: 18.2804\n",
      "Training: Epoch[001/020] Iteration[190/501] Loss: 17.8350\n",
      "Training: Epoch[001/020] Iteration[200/501] Loss: 16.6834\n",
      "Training: Epoch[001/020] Iteration[210/501] Loss: 17.7804\n",
      "Training: Epoch[001/020] Iteration[220/501] Loss: 18.9396\n",
      "Training: Epoch[001/020] Iteration[230/501] Loss: 15.6780\n",
      "Training: Epoch[001/020] Iteration[240/501] Loss: 21.8717\n",
      "Training: Epoch[001/020] Iteration[250/501] Loss: 17.2012\n",
      "Training: Epoch[001/020] Iteration[260/501] Loss: 18.5241\n",
      "Training: Epoch[001/020] Iteration[270/501] Loss: 18.7844\n",
      "Training: Epoch[001/020] Iteration[280/501] Loss: 16.8035\n",
      "Training: Epoch[001/020] Iteration[290/501] Loss: 14.9670\n",
      "Training: Epoch[001/020] Iteration[300/501] Loss: 13.7668\n",
      "Training: Epoch[001/020] Iteration[310/501] Loss: 18.5072\n",
      "Training: Epoch[001/020] Iteration[320/501] Loss: 20.7428\n",
      "Training: Epoch[001/020] Iteration[330/501] Loss: 16.2738\n",
      "Training: Epoch[001/020] Iteration[340/501] Loss: 13.4987\n",
      "Training: Epoch[001/020] Iteration[350/501] Loss: 17.6226\n",
      "Training: Epoch[001/020] Iteration[360/501] Loss: 15.8784\n",
      "Training: Epoch[001/020] Iteration[370/501] Loss: 16.3523\n",
      "Training: Epoch[001/020] Iteration[380/501] Loss: 17.0743\n",
      "Training: Epoch[001/020] Iteration[390/501] Loss: 19.4752\n",
      "Training: Epoch[001/020] Iteration[400/501] Loss: 17.6825\n",
      "Training: Epoch[001/020] Iteration[410/501] Loss: 17.2940\n",
      "Training: Epoch[001/020] Iteration[420/501] Loss: 14.1978\n",
      "Training: Epoch[001/020] Iteration[430/501] Loss: 16.6154\n",
      "Training: Epoch[001/020] Iteration[440/501] Loss: 20.8419\n",
      "Training: Epoch[001/020] Iteration[450/501] Loss: 17.8782\n",
      "Training: Epoch[001/020] Iteration[460/501] Loss: 18.4681\n",
      "Training: Epoch[001/020] Iteration[470/501] Loss: 16.8598\n",
      "Training: Epoch[001/020] Iteration[480/501] Loss: 17.2151\n",
      "Training: Epoch[001/020] Iteration[490/501] Loss: 14.6611\n",
      "Training: Epoch[001/020] Iteration[500/501] Loss: 17.0543\n"
     ]
    },
    {
     "name": "stderr",
     "output_type": "stream",
     "text": [
      "python(49521) MallocStackLogging: can't turn off malloc stack logging because it was not enabled.\n"
     ]
    },
    {
     "name": "stdout",
     "output_type": "stream",
     "text": [
      "Valid: Epoch[001/020] Iteration[501/501] Loss: 16.4022\n"
     ]
    },
    {
     "name": "stderr",
     "output_type": "stream",
     "text": [
      "python(49587) MallocStackLogging: can't turn off malloc stack logging because it was not enabled.\n"
     ]
    },
    {
     "name": "stdout",
     "output_type": "stream",
     "text": [
      "Training: Epoch[002/020] Iteration[010/501] Loss: 15.4716\n",
      "Training: Epoch[002/020] Iteration[020/501] Loss: 16.9876\n",
      "Training: Epoch[002/020] Iteration[030/501] Loss: 16.4757\n",
      "Training: Epoch[002/020] Iteration[040/501] Loss: 13.3934\n",
      "Training: Epoch[002/020] Iteration[050/501] Loss: 19.9617\n",
      "Training: Epoch[002/020] Iteration[060/501] Loss: 16.5978\n",
      "Training: Epoch[002/020] Iteration[070/501] Loss: 17.4290\n",
      "Training: Epoch[002/020] Iteration[080/501] Loss: 19.2206\n",
      "Training: Epoch[002/020] Iteration[090/501] Loss: 15.3631\n",
      "Training: Epoch[002/020] Iteration[100/501] Loss: 16.6155\n",
      "Training: Epoch[002/020] Iteration[110/501] Loss: 16.4806\n",
      "Training: Epoch[002/020] Iteration[120/501] Loss: 18.0277\n",
      "Training: Epoch[002/020] Iteration[130/501] Loss: 14.2841\n",
      "Training: Epoch[002/020] Iteration[140/501] Loss: 16.1954\n",
      "Training: Epoch[002/020] Iteration[150/501] Loss: 14.4718\n",
      "Training: Epoch[002/020] Iteration[160/501] Loss: 14.1210\n",
      "Training: Epoch[002/020] Iteration[170/501] Loss: 14.9896\n",
      "Training: Epoch[002/020] Iteration[180/501] Loss: 16.2815\n",
      "Training: Epoch[002/020] Iteration[190/501] Loss: 14.6725\n",
      "Training: Epoch[002/020] Iteration[200/501] Loss: 14.4633\n",
      "Training: Epoch[002/020] Iteration[210/501] Loss: 14.4146\n",
      "Training: Epoch[002/020] Iteration[220/501] Loss: 17.4815\n",
      "Training: Epoch[002/020] Iteration[230/501] Loss: 18.3695\n",
      "Training: Epoch[002/020] Iteration[240/501] Loss: 11.8917\n",
      "Training: Epoch[002/020] Iteration[250/501] Loss: 15.7969\n",
      "Training: Epoch[002/020] Iteration[260/501] Loss: 15.5166\n",
      "Training: Epoch[002/020] Iteration[270/501] Loss: 15.2443\n",
      "Training: Epoch[002/020] Iteration[280/501] Loss: 16.2618\n",
      "Training: Epoch[002/020] Iteration[290/501] Loss: 18.8561\n",
      "Training: Epoch[002/020] Iteration[300/501] Loss: 15.2459\n",
      "Training: Epoch[002/020] Iteration[310/501] Loss: 16.7419\n",
      "Training: Epoch[002/020] Iteration[320/501] Loss: 14.2188\n",
      "Training: Epoch[002/020] Iteration[330/501] Loss: 15.5419\n",
      "Training: Epoch[002/020] Iteration[340/501] Loss: 12.7659\n",
      "Training: Epoch[002/020] Iteration[350/501] Loss: 13.8223\n",
      "Training: Epoch[002/020] Iteration[360/501] Loss: 13.6913\n",
      "Training: Epoch[002/020] Iteration[370/501] Loss: 12.0388\n",
      "Training: Epoch[002/020] Iteration[380/501] Loss: 13.7280\n",
      "Training: Epoch[002/020] Iteration[390/501] Loss: 13.1076\n",
      "Training: Epoch[002/020] Iteration[400/501] Loss: 13.9981\n",
      "Training: Epoch[002/020] Iteration[410/501] Loss: 15.2825\n",
      "Training: Epoch[002/020] Iteration[420/501] Loss: 14.9880\n",
      "Training: Epoch[002/020] Iteration[430/501] Loss: 11.4524\n",
      "Training: Epoch[002/020] Iteration[440/501] Loss: 13.2887\n",
      "Training: Epoch[002/020] Iteration[450/501] Loss: 13.6757\n",
      "Training: Epoch[002/020] Iteration[460/501] Loss: 15.2680\n",
      "Training: Epoch[002/020] Iteration[470/501] Loss: 14.1080\n",
      "Training: Epoch[002/020] Iteration[480/501] Loss: 15.3837\n",
      "Training: Epoch[002/020] Iteration[490/501] Loss: 15.5288\n",
      "Training: Epoch[002/020] Iteration[500/501] Loss: 15.3464\n"
     ]
    },
    {
     "name": "stderr",
     "output_type": "stream",
     "text": [
      "python(50121) MallocStackLogging: can't turn off malloc stack logging because it was not enabled.\n"
     ]
    },
    {
     "name": "stdout",
     "output_type": "stream",
     "text": [
      "Valid: Epoch[002/020] Iteration[501/501] Loss: 14.7543\n"
     ]
    },
    {
     "name": "stderr",
     "output_type": "stream",
     "text": [
      "python(50184) MallocStackLogging: can't turn off malloc stack logging because it was not enabled.\n"
     ]
    },
    {
     "name": "stdout",
     "output_type": "stream",
     "text": [
      "Training: Epoch[003/020] Iteration[010/501] Loss: 13.8210\n",
      "Training: Epoch[003/020] Iteration[020/501] Loss: 16.5366\n",
      "Training: Epoch[003/020] Iteration[030/501] Loss: 17.1545\n",
      "Training: Epoch[003/020] Iteration[040/501] Loss: 12.2355\n",
      "Training: Epoch[003/020] Iteration[050/501] Loss: 14.7445\n",
      "Training: Epoch[003/020] Iteration[060/501] Loss: 12.2521\n",
      "Training: Epoch[003/020] Iteration[070/501] Loss: 13.1738\n",
      "Training: Epoch[003/020] Iteration[080/501] Loss: 11.8454\n",
      "Training: Epoch[003/020] Iteration[090/501] Loss: 11.4668\n",
      "Training: Epoch[003/020] Iteration[100/501] Loss: 15.9831\n",
      "Training: Epoch[003/020] Iteration[110/501] Loss: 14.0516\n",
      "Training: Epoch[003/020] Iteration[120/501] Loss: 13.9923\n",
      "Training: Epoch[003/020] Iteration[130/501] Loss: 13.0644\n",
      "Training: Epoch[003/020] Iteration[140/501] Loss: 11.0713\n",
      "Training: Epoch[003/020] Iteration[150/501] Loss: 12.9820\n",
      "Training: Epoch[003/020] Iteration[160/501] Loss: 10.6824\n",
      "Training: Epoch[003/020] Iteration[170/501] Loss: 14.0987\n",
      "Training: Epoch[003/020] Iteration[180/501] Loss: 12.5978\n",
      "Training: Epoch[003/020] Iteration[190/501] Loss: 15.2074\n",
      "Training: Epoch[003/020] Iteration[200/501] Loss: 13.3905\n",
      "Training: Epoch[003/020] Iteration[210/501] Loss: 9.6785\n",
      "Training: Epoch[003/020] Iteration[220/501] Loss: 10.5016\n",
      "Training: Epoch[003/020] Iteration[230/501] Loss: 14.2317\n",
      "Training: Epoch[003/020] Iteration[240/501] Loss: 14.1472\n",
      "Training: Epoch[003/020] Iteration[250/501] Loss: 13.7170\n",
      "Training: Epoch[003/020] Iteration[260/501] Loss: 11.5263\n",
      "Training: Epoch[003/020] Iteration[270/501] Loss: 13.2296\n",
      "Training: Epoch[003/020] Iteration[280/501] Loss: 14.1226\n",
      "Training: Epoch[003/020] Iteration[290/501] Loss: 12.5780\n",
      "Training: Epoch[003/020] Iteration[300/501] Loss: 12.8347\n",
      "Training: Epoch[003/020] Iteration[310/501] Loss: 11.5552\n",
      "Training: Epoch[003/020] Iteration[320/501] Loss: 14.5650\n",
      "Training: Epoch[003/020] Iteration[330/501] Loss: 10.5293\n",
      "Training: Epoch[003/020] Iteration[340/501] Loss: 10.4800\n",
      "Training: Epoch[003/020] Iteration[350/501] Loss: 12.2214\n",
      "Training: Epoch[003/020] Iteration[360/501] Loss: 12.2765\n",
      "Training: Epoch[003/020] Iteration[370/501] Loss: 13.0863\n",
      "Training: Epoch[003/020] Iteration[380/501] Loss: 13.3163\n",
      "Training: Epoch[003/020] Iteration[390/501] Loss: 13.5429\n",
      "Training: Epoch[003/020] Iteration[400/501] Loss: 15.4400\n",
      "Training: Epoch[003/020] Iteration[410/501] Loss: 11.0617\n",
      "Training: Epoch[003/020] Iteration[420/501] Loss: 13.9447\n",
      "Training: Epoch[003/020] Iteration[430/501] Loss: 12.3877\n",
      "Training: Epoch[003/020] Iteration[440/501] Loss: 14.3823\n",
      "Training: Epoch[003/020] Iteration[450/501] Loss: 12.3181\n",
      "Training: Epoch[003/020] Iteration[460/501] Loss: 14.3778\n",
      "Training: Epoch[003/020] Iteration[470/501] Loss: 13.6340\n",
      "Training: Epoch[003/020] Iteration[480/501] Loss: 10.9610\n",
      "Training: Epoch[003/020] Iteration[490/501] Loss: 11.3593\n",
      "Training: Epoch[003/020] Iteration[500/501] Loss: 11.9684\n"
     ]
    },
    {
     "name": "stderr",
     "output_type": "stream",
     "text": [
      "python(50753) MallocStackLogging: can't turn off malloc stack logging because it was not enabled.\n"
     ]
    },
    {
     "name": "stdout",
     "output_type": "stream",
     "text": [
      "Valid: Epoch[003/020] Iteration[501/501] Loss: 12.7043\n"
     ]
    },
    {
     "name": "stderr",
     "output_type": "stream",
     "text": [
      "python(50814) MallocStackLogging: can't turn off malloc stack logging because it was not enabled.\n"
     ]
    },
    {
     "name": "stdout",
     "output_type": "stream",
     "text": [
      "Training: Epoch[004/020] Iteration[010/501] Loss: 11.7257\n",
      "Training: Epoch[004/020] Iteration[020/501] Loss: 7.7379\n",
      "Training: Epoch[004/020] Iteration[030/501] Loss: 11.4048\n",
      "Training: Epoch[004/020] Iteration[040/501] Loss: 11.2533\n",
      "Training: Epoch[004/020] Iteration[050/501] Loss: 10.9073\n",
      "Training: Epoch[004/020] Iteration[060/501] Loss: 10.8476\n",
      "Training: Epoch[004/020] Iteration[070/501] Loss: 11.4002\n",
      "Training: Epoch[004/020] Iteration[080/501] Loss: 11.9448\n",
      "Training: Epoch[004/020] Iteration[090/501] Loss: 13.1945\n",
      "Training: Epoch[004/020] Iteration[100/501] Loss: 11.4955\n",
      "Training: Epoch[004/020] Iteration[110/501] Loss: 12.6401\n",
      "Training: Epoch[004/020] Iteration[120/501] Loss: 10.2714\n",
      "Training: Epoch[004/020] Iteration[130/501] Loss: 11.4772\n",
      "Training: Epoch[004/020] Iteration[140/501] Loss: 10.4336\n",
      "Training: Epoch[004/020] Iteration[150/501] Loss: 14.3970\n",
      "Training: Epoch[004/020] Iteration[160/501] Loss: 13.4623\n",
      "Training: Epoch[004/020] Iteration[170/501] Loss: 11.9761\n",
      "Training: Epoch[004/020] Iteration[180/501] Loss: 14.6404\n",
      "Training: Epoch[004/020] Iteration[190/501] Loss: 13.0590\n",
      "Training: Epoch[004/020] Iteration[200/501] Loss: 12.2503\n",
      "Training: Epoch[004/020] Iteration[210/501] Loss: 12.4554\n",
      "Training: Epoch[004/020] Iteration[220/501] Loss: 13.1355\n",
      "Training: Epoch[004/020] Iteration[230/501] Loss: 10.8101\n",
      "Training: Epoch[004/020] Iteration[240/501] Loss: 12.7018\n",
      "Training: Epoch[004/020] Iteration[250/501] Loss: 10.2599\n",
      "Training: Epoch[004/020] Iteration[260/501] Loss: 9.1618\n",
      "Training: Epoch[004/020] Iteration[270/501] Loss: 9.4096\n",
      "Training: Epoch[004/020] Iteration[280/501] Loss: 10.1332\n",
      "Training: Epoch[004/020] Iteration[290/501] Loss: 10.3258\n",
      "Training: Epoch[004/020] Iteration[300/501] Loss: 11.3689\n",
      "Training: Epoch[004/020] Iteration[310/501] Loss: 13.2091\n",
      "Training: Epoch[004/020] Iteration[320/501] Loss: 11.5239\n",
      "Training: Epoch[004/020] Iteration[330/501] Loss: 13.2336\n",
      "Training: Epoch[004/020] Iteration[340/501] Loss: 11.7690\n",
      "Training: Epoch[004/020] Iteration[350/501] Loss: 12.3049\n",
      "Training: Epoch[004/020] Iteration[360/501] Loss: 12.1110\n",
      "Training: Epoch[004/020] Iteration[370/501] Loss: 13.1996\n",
      "Training: Epoch[004/020] Iteration[380/501] Loss: 10.6718\n",
      "Training: Epoch[004/020] Iteration[390/501] Loss: 11.3361\n",
      "Training: Epoch[004/020] Iteration[400/501] Loss: 10.5410\n",
      "Training: Epoch[004/020] Iteration[410/501] Loss: 13.2638\n",
      "Training: Epoch[004/020] Iteration[420/501] Loss: 12.5483\n",
      "Training: Epoch[004/020] Iteration[430/501] Loss: 11.8325\n",
      "Training: Epoch[004/020] Iteration[440/501] Loss: 10.6531\n",
      "Training: Epoch[004/020] Iteration[450/501] Loss: 9.0701\n",
      "Training: Epoch[004/020] Iteration[460/501] Loss: 12.1961\n",
      "Training: Epoch[004/020] Iteration[470/501] Loss: 11.7380\n",
      "Training: Epoch[004/020] Iteration[480/501] Loss: 13.4583\n",
      "Training: Epoch[004/020] Iteration[490/501] Loss: 11.2895\n",
      "Training: Epoch[004/020] Iteration[500/501] Loss: 11.3410\n"
     ]
    },
    {
     "name": "stderr",
     "output_type": "stream",
     "text": [
      "python(51314) MallocStackLogging: can't turn off malloc stack logging because it was not enabled.\n"
     ]
    },
    {
     "name": "stdout",
     "output_type": "stream",
     "text": [
      "Valid: Epoch[004/020] Iteration[501/501] Loss: 12.5175\n"
     ]
    },
    {
     "name": "stderr",
     "output_type": "stream",
     "text": [
      "python(51378) MallocStackLogging: can't turn off malloc stack logging because it was not enabled.\n"
     ]
    },
    {
     "name": "stdout",
     "output_type": "stream",
     "text": [
      "Training: Epoch[005/020] Iteration[010/501] Loss: 12.6548\n",
      "Training: Epoch[005/020] Iteration[020/501] Loss: 9.8428\n",
      "Training: Epoch[005/020] Iteration[030/501] Loss: 7.2569\n",
      "Training: Epoch[005/020] Iteration[040/501] Loss: 12.8381\n",
      "Training: Epoch[005/020] Iteration[050/501] Loss: 15.2437\n",
      "Training: Epoch[005/020] Iteration[060/501] Loss: 13.4848\n",
      "Training: Epoch[005/020] Iteration[070/501] Loss: 18.0235\n",
      "Training: Epoch[005/020] Iteration[080/501] Loss: 14.5941\n",
      "Training: Epoch[005/020] Iteration[090/501] Loss: 11.5216\n",
      "Training: Epoch[005/020] Iteration[100/501] Loss: 10.1568\n",
      "Training: Epoch[005/020] Iteration[110/501] Loss: 10.9613\n",
      "Training: Epoch[005/020] Iteration[120/501] Loss: 9.1112\n",
      "Training: Epoch[005/020] Iteration[130/501] Loss: 11.2066\n",
      "Training: Epoch[005/020] Iteration[140/501] Loss: 12.5009\n",
      "Training: Epoch[005/020] Iteration[150/501] Loss: 12.7571\n",
      "Training: Epoch[005/020] Iteration[160/501] Loss: 10.1717\n",
      "Training: Epoch[005/020] Iteration[170/501] Loss: 11.1188\n",
      "Training: Epoch[005/020] Iteration[180/501] Loss: 13.0450\n",
      "Training: Epoch[005/020] Iteration[190/501] Loss: 15.7824\n",
      "Training: Epoch[005/020] Iteration[200/501] Loss: 12.4548\n",
      "Training: Epoch[005/020] Iteration[210/501] Loss: 13.3296\n",
      "Training: Epoch[005/020] Iteration[220/501] Loss: 8.7856\n",
      "Training: Epoch[005/020] Iteration[230/501] Loss: 9.3331\n",
      "Training: Epoch[005/020] Iteration[240/501] Loss: 6.6306\n",
      "Training: Epoch[005/020] Iteration[250/501] Loss: 9.2873\n",
      "Training: Epoch[005/020] Iteration[260/501] Loss: 6.7805\n",
      "Training: Epoch[005/020] Iteration[270/501] Loss: 9.8428\n",
      "Training: Epoch[005/020] Iteration[280/501] Loss: 17.1860\n",
      "Training: Epoch[005/020] Iteration[290/501] Loss: 10.2019\n",
      "Training: Epoch[005/020] Iteration[300/501] Loss: 9.9368\n",
      "Training: Epoch[005/020] Iteration[310/501] Loss: 9.4411\n",
      "Training: Epoch[005/020] Iteration[320/501] Loss: 11.2167\n",
      "Training: Epoch[005/020] Iteration[330/501] Loss: 10.1647\n",
      "Training: Epoch[005/020] Iteration[340/501] Loss: 9.8902\n",
      "Training: Epoch[005/020] Iteration[350/501] Loss: 8.1900\n",
      "Training: Epoch[005/020] Iteration[360/501] Loss: 9.8370\n",
      "Training: Epoch[005/020] Iteration[370/501] Loss: 11.8766\n",
      "Training: Epoch[005/020] Iteration[380/501] Loss: 14.4094\n",
      "Training: Epoch[005/020] Iteration[390/501] Loss: 9.8236\n",
      "Training: Epoch[005/020] Iteration[400/501] Loss: 10.6306\n",
      "Training: Epoch[005/020] Iteration[410/501] Loss: 10.2058\n",
      "Training: Epoch[005/020] Iteration[420/501] Loss: 11.1115\n",
      "Training: Epoch[005/020] Iteration[430/501] Loss: 9.7611\n",
      "Training: Epoch[005/020] Iteration[440/501] Loss: 10.5685\n",
      "Training: Epoch[005/020] Iteration[450/501] Loss: 13.8831\n",
      "Training: Epoch[005/020] Iteration[460/501] Loss: 11.2707\n",
      "Training: Epoch[005/020] Iteration[470/501] Loss: 11.2847\n",
      "Training: Epoch[005/020] Iteration[480/501] Loss: 11.3283\n",
      "Training: Epoch[005/020] Iteration[490/501] Loss: 9.9181\n",
      "Training: Epoch[005/020] Iteration[500/501] Loss: 11.6762\n"
     ]
    },
    {
     "name": "stderr",
     "output_type": "stream",
     "text": [
      "python(51850) MallocStackLogging: can't turn off malloc stack logging because it was not enabled.\n"
     ]
    },
    {
     "name": "stdout",
     "output_type": "stream",
     "text": [
      "Valid: Epoch[005/020] Iteration[501/501] Loss: 10.8250\n"
     ]
    },
    {
     "name": "stderr",
     "output_type": "stream",
     "text": [
      "python(51921) MallocStackLogging: can't turn off malloc stack logging because it was not enabled.\n"
     ]
    },
    {
     "name": "stdout",
     "output_type": "stream",
     "text": [
      "Training: Epoch[006/020] Iteration[010/501] Loss: 10.8015\n",
      "Training: Epoch[006/020] Iteration[020/501] Loss: 9.1599\n",
      "Training: Epoch[006/020] Iteration[030/501] Loss: 11.9721\n",
      "Training: Epoch[006/020] Iteration[040/501] Loss: 10.8907\n",
      "Training: Epoch[006/020] Iteration[050/501] Loss: 9.4159\n",
      "Training: Epoch[006/020] Iteration[060/501] Loss: 9.0384\n",
      "Training: Epoch[006/020] Iteration[070/501] Loss: 7.9468\n",
      "Training: Epoch[006/020] Iteration[080/501] Loss: 10.9773\n",
      "Training: Epoch[006/020] Iteration[090/501] Loss: 9.8638\n",
      "Training: Epoch[006/020] Iteration[100/501] Loss: 9.4479\n",
      "Training: Epoch[006/020] Iteration[110/501] Loss: 9.2185\n",
      "Training: Epoch[006/020] Iteration[120/501] Loss: 9.7100\n",
      "Training: Epoch[006/020] Iteration[130/501] Loss: 9.6613\n",
      "Training: Epoch[006/020] Iteration[140/501] Loss: 6.9416\n",
      "Training: Epoch[006/020] Iteration[150/501] Loss: 9.5139\n",
      "Training: Epoch[006/020] Iteration[160/501] Loss: 12.2623\n",
      "Training: Epoch[006/020] Iteration[170/501] Loss: 9.9908\n",
      "Training: Epoch[006/020] Iteration[180/501] Loss: 8.8906\n",
      "Training: Epoch[006/020] Iteration[190/501] Loss: 7.7202\n",
      "Training: Epoch[006/020] Iteration[200/501] Loss: 8.6847\n",
      "Training: Epoch[006/020] Iteration[210/501] Loss: 8.1376\n",
      "Training: Epoch[006/020] Iteration[220/501] Loss: 8.3817\n",
      "Training: Epoch[006/020] Iteration[230/501] Loss: 9.7266\n",
      "Training: Epoch[006/020] Iteration[240/501] Loss: 7.7167\n",
      "Training: Epoch[006/020] Iteration[250/501] Loss: 8.7527\n",
      "Training: Epoch[006/020] Iteration[260/501] Loss: 7.3859\n",
      "Training: Epoch[006/020] Iteration[270/501] Loss: 7.6497\n",
      "Training: Epoch[006/020] Iteration[280/501] Loss: 9.3410\n",
      "Training: Epoch[006/020] Iteration[290/501] Loss: 6.5553\n",
      "Training: Epoch[006/020] Iteration[300/501] Loss: 7.6306\n",
      "Training: Epoch[006/020] Iteration[310/501] Loss: 9.9001\n",
      "Training: Epoch[006/020] Iteration[320/501] Loss: 7.7345\n",
      "Training: Epoch[006/020] Iteration[330/501] Loss: 8.2468\n",
      "Training: Epoch[006/020] Iteration[340/501] Loss: 7.4366\n",
      "Training: Epoch[006/020] Iteration[350/501] Loss: 8.2000\n",
      "Training: Epoch[006/020] Iteration[360/501] Loss: 12.1993\n",
      "Training: Epoch[006/020] Iteration[370/501] Loss: 11.4383\n",
      "Training: Epoch[006/020] Iteration[380/501] Loss: 8.4934\n",
      "Training: Epoch[006/020] Iteration[390/501] Loss: 10.2246\n",
      "Training: Epoch[006/020] Iteration[400/501] Loss: 8.1493\n",
      "Training: Epoch[006/020] Iteration[410/501] Loss: 10.2717\n",
      "Training: Epoch[006/020] Iteration[420/501] Loss: 10.5260\n",
      "Training: Epoch[006/020] Iteration[430/501] Loss: 8.5268\n",
      "Training: Epoch[006/020] Iteration[440/501] Loss: 9.9256\n",
      "Training: Epoch[006/020] Iteration[450/501] Loss: 12.3535\n",
      "Training: Epoch[006/020] Iteration[460/501] Loss: 11.6485\n",
      "Training: Epoch[006/020] Iteration[470/501] Loss: 9.7207\n",
      "Training: Epoch[006/020] Iteration[480/501] Loss: 9.5172\n",
      "Training: Epoch[006/020] Iteration[490/501] Loss: 9.0871\n",
      "Training: Epoch[006/020] Iteration[500/501] Loss: 12.7295\n"
     ]
    },
    {
     "name": "stderr",
     "output_type": "stream",
     "text": [
      "python(52400) MallocStackLogging: can't turn off malloc stack logging because it was not enabled.\n"
     ]
    },
    {
     "name": "stdout",
     "output_type": "stream",
     "text": [
      "Valid: Epoch[006/020] Iteration[501/501] Loss: 9.2190\n"
     ]
    },
    {
     "name": "stderr",
     "output_type": "stream",
     "text": [
      "python(52461) MallocStackLogging: can't turn off malloc stack logging because it was not enabled.\n"
     ]
    },
    {
     "name": "stdout",
     "output_type": "stream",
     "text": [
      "Training: Epoch[007/020] Iteration[010/501] Loss: 6.7900\n",
      "Training: Epoch[007/020] Iteration[020/501] Loss: 7.5766\n",
      "Training: Epoch[007/020] Iteration[030/501] Loss: 8.8937\n",
      "Training: Epoch[007/020] Iteration[040/501] Loss: 8.9897\n",
      "Training: Epoch[007/020] Iteration[050/501] Loss: 10.2976\n",
      "Training: Epoch[007/020] Iteration[060/501] Loss: 12.5946\n",
      "Training: Epoch[007/020] Iteration[070/501] Loss: 8.8265\n",
      "Training: Epoch[007/020] Iteration[080/501] Loss: 9.3521\n",
      "Training: Epoch[007/020] Iteration[090/501] Loss: 7.2001\n",
      "Training: Epoch[007/020] Iteration[100/501] Loss: 8.3544\n",
      "Training: Epoch[007/020] Iteration[110/501] Loss: 7.4457\n",
      "Training: Epoch[007/020] Iteration[120/501] Loss: 7.7033\n",
      "Training: Epoch[007/020] Iteration[130/501] Loss: 9.1867\n",
      "Training: Epoch[007/020] Iteration[140/501] Loss: 7.5564\n",
      "Training: Epoch[007/020] Iteration[150/501] Loss: 10.0516\n",
      "Training: Epoch[007/020] Iteration[160/501] Loss: 8.2025\n",
      "Training: Epoch[007/020] Iteration[170/501] Loss: 14.5456\n",
      "Training: Epoch[007/020] Iteration[180/501] Loss: 11.0367\n",
      "Training: Epoch[007/020] Iteration[190/501] Loss: 7.2476\n",
      "Training: Epoch[007/020] Iteration[200/501] Loss: 9.4875\n",
      "Training: Epoch[007/020] Iteration[210/501] Loss: 8.9003\n",
      "Training: Epoch[007/020] Iteration[220/501] Loss: 6.1053\n",
      "Training: Epoch[007/020] Iteration[230/501] Loss: 8.1413\n",
      "Training: Epoch[007/020] Iteration[240/501] Loss: 9.6091\n",
      "Training: Epoch[007/020] Iteration[250/501] Loss: 9.6811\n",
      "Training: Epoch[007/020] Iteration[260/501] Loss: 10.4961\n",
      "Training: Epoch[007/020] Iteration[270/501] Loss: 11.0737\n",
      "Training: Epoch[007/020] Iteration[280/501] Loss: 12.7865\n",
      "Training: Epoch[007/020] Iteration[290/501] Loss: 8.0093\n",
      "Training: Epoch[007/020] Iteration[300/501] Loss: 9.4834\n",
      "Training: Epoch[007/020] Iteration[310/501] Loss: 9.2340\n",
      "Training: Epoch[007/020] Iteration[320/501] Loss: 9.8633\n",
      "Training: Epoch[007/020] Iteration[330/501] Loss: 8.6061\n",
      "Training: Epoch[007/020] Iteration[340/501] Loss: 8.7480\n",
      "Training: Epoch[007/020] Iteration[350/501] Loss: 8.7512\n",
      "Training: Epoch[007/020] Iteration[360/501] Loss: 7.4622\n",
      "Training: Epoch[007/020] Iteration[370/501] Loss: 7.6402\n",
      "Training: Epoch[007/020] Iteration[380/501] Loss: 9.9349\n",
      "Training: Epoch[007/020] Iteration[390/501] Loss: 10.3779\n",
      "Training: Epoch[007/020] Iteration[400/501] Loss: 9.2473\n",
      "Training: Epoch[007/020] Iteration[410/501] Loss: 8.5809\n",
      "Training: Epoch[007/020] Iteration[420/501] Loss: 7.9068\n",
      "Training: Epoch[007/020] Iteration[430/501] Loss: 8.2498\n",
      "Training: Epoch[007/020] Iteration[440/501] Loss: 8.6613\n",
      "Training: Epoch[007/020] Iteration[450/501] Loss: 10.8005\n",
      "Training: Epoch[007/020] Iteration[460/501] Loss: 9.1080\n",
      "Training: Epoch[007/020] Iteration[470/501] Loss: 7.5818\n",
      "Training: Epoch[007/020] Iteration[480/501] Loss: 8.8772\n",
      "Training: Epoch[007/020] Iteration[490/501] Loss: 8.2948\n",
      "Training: Epoch[007/020] Iteration[500/501] Loss: 9.1762\n"
     ]
    },
    {
     "name": "stderr",
     "output_type": "stream",
     "text": [
      "python(52922) MallocStackLogging: can't turn off malloc stack logging because it was not enabled.\n"
     ]
    },
    {
     "name": "stdout",
     "output_type": "stream",
     "text": [
      "Valid: Epoch[007/020] Iteration[501/501] Loss: 11.5732\n"
     ]
    },
    {
     "name": "stderr",
     "output_type": "stream",
     "text": [
      "python(52982) MallocStackLogging: can't turn off malloc stack logging because it was not enabled.\n"
     ]
    },
    {
     "name": "stdout",
     "output_type": "stream",
     "text": [
      "Training: Epoch[008/020] Iteration[010/501] Loss: 9.4077\n",
      "Training: Epoch[008/020] Iteration[020/501] Loss: 10.6807\n",
      "Training: Epoch[008/020] Iteration[030/501] Loss: 7.3281\n",
      "Training: Epoch[008/020] Iteration[040/501] Loss: 9.3661\n",
      "Training: Epoch[008/020] Iteration[050/501] Loss: 10.5932\n",
      "Training: Epoch[008/020] Iteration[060/501] Loss: 8.5461\n",
      "Training: Epoch[008/020] Iteration[070/501] Loss: 9.1463\n",
      "Training: Epoch[008/020] Iteration[080/501] Loss: 7.1961\n",
      "Training: Epoch[008/020] Iteration[090/501] Loss: 11.7326\n",
      "Training: Epoch[008/020] Iteration[100/501] Loss: 11.6934\n",
      "Training: Epoch[008/020] Iteration[110/501] Loss: 8.5837\n",
      "Training: Epoch[008/020] Iteration[120/501] Loss: 8.8147\n",
      "Training: Epoch[008/020] Iteration[130/501] Loss: 6.4637\n",
      "Training: Epoch[008/020] Iteration[140/501] Loss: 6.0278\n",
      "Training: Epoch[008/020] Iteration[150/501] Loss: 8.3779\n",
      "Training: Epoch[008/020] Iteration[160/501] Loss: 8.7051\n",
      "Training: Epoch[008/020] Iteration[170/501] Loss: 8.6559\n",
      "Training: Epoch[008/020] Iteration[180/501] Loss: 10.0338\n",
      "Training: Epoch[008/020] Iteration[190/501] Loss: 7.3075\n",
      "Training: Epoch[008/020] Iteration[200/501] Loss: 8.2756\n",
      "Training: Epoch[008/020] Iteration[210/501] Loss: 8.6517\n",
      "Training: Epoch[008/020] Iteration[220/501] Loss: 8.0597\n",
      "Training: Epoch[008/020] Iteration[230/501] Loss: 7.9998\n",
      "Training: Epoch[008/020] Iteration[240/501] Loss: 9.1071\n",
      "Training: Epoch[008/020] Iteration[250/501] Loss: 6.5825\n",
      "Training: Epoch[008/020] Iteration[260/501] Loss: 9.5159\n",
      "Training: Epoch[008/020] Iteration[270/501] Loss: 11.6607\n",
      "Training: Epoch[008/020] Iteration[280/501] Loss: 8.5784\n",
      "Training: Epoch[008/020] Iteration[290/501] Loss: 8.8372\n",
      "Training: Epoch[008/020] Iteration[300/501] Loss: 9.1470\n",
      "Training: Epoch[008/020] Iteration[310/501] Loss: 9.3537\n",
      "Training: Epoch[008/020] Iteration[320/501] Loss: 8.2412\n",
      "Training: Epoch[008/020] Iteration[330/501] Loss: 10.4725\n",
      "Training: Epoch[008/020] Iteration[340/501] Loss: 9.4055\n",
      "Training: Epoch[008/020] Iteration[350/501] Loss: 8.6837\n",
      "Training: Epoch[008/020] Iteration[360/501] Loss: 8.4140\n",
      "Training: Epoch[008/020] Iteration[370/501] Loss: 7.5985\n",
      "Training: Epoch[008/020] Iteration[380/501] Loss: 7.9894\n",
      "Training: Epoch[008/020] Iteration[390/501] Loss: 8.6802\n",
      "Training: Epoch[008/020] Iteration[400/501] Loss: 7.0175\n",
      "Training: Epoch[008/020] Iteration[410/501] Loss: 6.3501\n",
      "Training: Epoch[008/020] Iteration[420/501] Loss: 9.1016\n",
      "Training: Epoch[008/020] Iteration[430/501] Loss: 8.7585\n",
      "Training: Epoch[008/020] Iteration[440/501] Loss: 9.1591\n",
      "Training: Epoch[008/020] Iteration[450/501] Loss: 9.5124\n",
      "Training: Epoch[008/020] Iteration[460/501] Loss: 7.7078\n",
      "Training: Epoch[008/020] Iteration[470/501] Loss: 9.1963\n",
      "Training: Epoch[008/020] Iteration[480/501] Loss: 9.8567\n",
      "Training: Epoch[008/020] Iteration[490/501] Loss: 6.8086\n",
      "Training: Epoch[008/020] Iteration[500/501] Loss: 9.5639\n"
     ]
    },
    {
     "name": "stderr",
     "output_type": "stream",
     "text": [
      "python(53449) MallocStackLogging: can't turn off malloc stack logging because it was not enabled.\n"
     ]
    },
    {
     "name": "stdout",
     "output_type": "stream",
     "text": [
      "Valid: Epoch[008/020] Iteration[501/501] Loss: 8.7671\n"
     ]
    },
    {
     "name": "stderr",
     "output_type": "stream",
     "text": [
      "python(53532) MallocStackLogging: can't turn off malloc stack logging because it was not enabled.\n"
     ]
    },
    {
     "name": "stdout",
     "output_type": "stream",
     "text": [
      "Training: Epoch[009/020] Iteration[010/501] Loss: 9.9748\n",
      "Training: Epoch[009/020] Iteration[020/501] Loss: 7.2753\n",
      "Training: Epoch[009/020] Iteration[030/501] Loss: 8.9928\n",
      "Training: Epoch[009/020] Iteration[040/501] Loss: 7.1571\n",
      "Training: Epoch[009/020] Iteration[050/501] Loss: 8.3721\n",
      "Training: Epoch[009/020] Iteration[060/501] Loss: 7.2343\n",
      "Training: Epoch[009/020] Iteration[070/501] Loss: 7.4626\n",
      "Training: Epoch[009/020] Iteration[080/501] Loss: 10.4263\n",
      "Training: Epoch[009/020] Iteration[090/501] Loss: 6.5545\n",
      "Training: Epoch[009/020] Iteration[100/501] Loss: 8.7681\n",
      "Training: Epoch[009/020] Iteration[110/501] Loss: 8.6162\n",
      "Training: Epoch[009/020] Iteration[120/501] Loss: 7.8678\n",
      "Training: Epoch[009/020] Iteration[130/501] Loss: 8.8307\n",
      "Training: Epoch[009/020] Iteration[140/501] Loss: 7.2141\n",
      "Training: Epoch[009/020] Iteration[150/501] Loss: 7.3186\n",
      "Training: Epoch[009/020] Iteration[160/501] Loss: 8.3244\n",
      "Training: Epoch[009/020] Iteration[170/501] Loss: 7.6228\n",
      "Training: Epoch[009/020] Iteration[180/501] Loss: 8.6299\n",
      "Training: Epoch[009/020] Iteration[190/501] Loss: 7.3601\n",
      "Training: Epoch[009/020] Iteration[200/501] Loss: 8.6511\n",
      "Training: Epoch[009/020] Iteration[210/501] Loss: 7.5357\n",
      "Training: Epoch[009/020] Iteration[220/501] Loss: 9.2581\n",
      "Training: Epoch[009/020] Iteration[230/501] Loss: 9.2841\n",
      "Training: Epoch[009/020] Iteration[240/501] Loss: 8.5008\n",
      "Training: Epoch[009/020] Iteration[250/501] Loss: 6.4044\n",
      "Training: Epoch[009/020] Iteration[260/501] Loss: 8.9242\n",
      "Training: Epoch[009/020] Iteration[270/501] Loss: 5.5569\n",
      "Training: Epoch[009/020] Iteration[280/501] Loss: 10.4933\n",
      "Training: Epoch[009/020] Iteration[290/501] Loss: 10.4599\n",
      "Training: Epoch[009/020] Iteration[300/501] Loss: 6.6608\n",
      "Training: Epoch[009/020] Iteration[310/501] Loss: 9.3187\n",
      "Training: Epoch[009/020] Iteration[320/501] Loss: 5.0931\n",
      "Training: Epoch[009/020] Iteration[330/501] Loss: 8.0785\n",
      "Training: Epoch[009/020] Iteration[340/501] Loss: 7.6031\n",
      "Training: Epoch[009/020] Iteration[350/501] Loss: 8.3979\n",
      "Training: Epoch[009/020] Iteration[360/501] Loss: 7.5580\n",
      "Training: Epoch[009/020] Iteration[370/501] Loss: 7.1805\n",
      "Training: Epoch[009/020] Iteration[380/501] Loss: 7.1174\n",
      "Training: Epoch[009/020] Iteration[390/501] Loss: 7.5384\n",
      "Training: Epoch[009/020] Iteration[400/501] Loss: 6.9511\n",
      "Training: Epoch[009/020] Iteration[410/501] Loss: 7.5939\n",
      "Training: Epoch[009/020] Iteration[420/501] Loss: 9.1120\n",
      "Training: Epoch[009/020] Iteration[430/501] Loss: 11.4389\n",
      "Training: Epoch[009/020] Iteration[440/501] Loss: 7.8858\n",
      "Training: Epoch[009/020] Iteration[450/501] Loss: 7.5795\n",
      "Training: Epoch[009/020] Iteration[460/501] Loss: 6.9482\n",
      "Training: Epoch[009/020] Iteration[470/501] Loss: 8.0664\n",
      "Training: Epoch[009/020] Iteration[480/501] Loss: 7.7301\n",
      "Training: Epoch[009/020] Iteration[490/501] Loss: 7.6460\n",
      "Training: Epoch[009/020] Iteration[500/501] Loss: 7.3189\n"
     ]
    },
    {
     "name": "stderr",
     "output_type": "stream",
     "text": [
      "python(53996) MallocStackLogging: can't turn off malloc stack logging because it was not enabled.\n"
     ]
    },
    {
     "name": "stdout",
     "output_type": "stream",
     "text": [
      "Valid: Epoch[009/020] Iteration[501/501] Loss: 13.8604\n"
     ]
    },
    {
     "name": "stderr",
     "output_type": "stream",
     "text": [
      "python(54059) MallocStackLogging: can't turn off malloc stack logging because it was not enabled.\n"
     ]
    },
    {
     "name": "stdout",
     "output_type": "stream",
     "text": [
      "Training: Epoch[010/020] Iteration[010/501] Loss: 6.5754\n",
      "Training: Epoch[010/020] Iteration[020/501] Loss: 5.1443\n",
      "Training: Epoch[010/020] Iteration[030/501] Loss: 6.4053\n",
      "Training: Epoch[010/020] Iteration[040/501] Loss: 5.7604\n",
      "Training: Epoch[010/020] Iteration[050/501] Loss: 4.8653\n",
      "Training: Epoch[010/020] Iteration[060/501] Loss: 6.1179\n",
      "Training: Epoch[010/020] Iteration[070/501] Loss: 5.0736\n",
      "Training: Epoch[010/020] Iteration[080/501] Loss: 4.9657\n",
      "Training: Epoch[010/020] Iteration[090/501] Loss: 6.3988\n",
      "Training: Epoch[010/020] Iteration[100/501] Loss: 4.7283\n",
      "Training: Epoch[010/020] Iteration[110/501] Loss: 7.6278\n",
      "Training: Epoch[010/020] Iteration[120/501] Loss: 6.0997\n",
      "Training: Epoch[010/020] Iteration[130/501] Loss: 5.2862\n",
      "Training: Epoch[010/020] Iteration[140/501] Loss: 4.4694\n",
      "Training: Epoch[010/020] Iteration[150/501] Loss: 4.7654\n",
      "Training: Epoch[010/020] Iteration[160/501] Loss: 6.3224\n",
      "Training: Epoch[010/020] Iteration[170/501] Loss: 7.2690\n",
      "Training: Epoch[010/020] Iteration[180/501] Loss: 5.9957\n",
      "Training: Epoch[010/020] Iteration[190/501] Loss: 4.3153\n",
      "Training: Epoch[010/020] Iteration[200/501] Loss: 4.7253\n",
      "Training: Epoch[010/020] Iteration[210/501] Loss: 5.2621\n",
      "Training: Epoch[010/020] Iteration[220/501] Loss: 3.7490\n",
      "Training: Epoch[010/020] Iteration[230/501] Loss: 4.5399\n",
      "Training: Epoch[010/020] Iteration[240/501] Loss: 5.2329\n",
      "Training: Epoch[010/020] Iteration[250/501] Loss: 5.7702\n",
      "Training: Epoch[010/020] Iteration[260/501] Loss: 5.5422\n",
      "Training: Epoch[010/020] Iteration[270/501] Loss: 5.7816\n",
      "Training: Epoch[010/020] Iteration[280/501] Loss: 2.7872\n",
      "Training: Epoch[010/020] Iteration[290/501] Loss: 4.1017\n",
      "Training: Epoch[010/020] Iteration[300/501] Loss: 5.6491\n",
      "Training: Epoch[010/020] Iteration[310/501] Loss: 4.5168\n",
      "Training: Epoch[010/020] Iteration[320/501] Loss: 4.6119\n",
      "Training: Epoch[010/020] Iteration[330/501] Loss: 3.6463\n",
      "Training: Epoch[010/020] Iteration[340/501] Loss: 5.8569\n",
      "Training: Epoch[010/020] Iteration[350/501] Loss: 4.1578\n",
      "Training: Epoch[010/020] Iteration[360/501] Loss: 3.8310\n",
      "Training: Epoch[010/020] Iteration[370/501] Loss: 5.3108\n",
      "Training: Epoch[010/020] Iteration[380/501] Loss: 4.3139\n",
      "Training: Epoch[010/020] Iteration[390/501] Loss: 4.2369\n",
      "Training: Epoch[010/020] Iteration[400/501] Loss: 4.7875\n",
      "Training: Epoch[010/020] Iteration[410/501] Loss: 4.1811\n",
      "Training: Epoch[010/020] Iteration[420/501] Loss: 5.6538\n",
      "Training: Epoch[010/020] Iteration[430/501] Loss: 5.2806\n",
      "Training: Epoch[010/020] Iteration[440/501] Loss: 3.3451\n",
      "Training: Epoch[010/020] Iteration[450/501] Loss: 5.5297\n",
      "Training: Epoch[010/020] Iteration[460/501] Loss: 6.3023\n",
      "Training: Epoch[010/020] Iteration[470/501] Loss: 4.7726\n",
      "Training: Epoch[010/020] Iteration[480/501] Loss: 8.2052\n",
      "Training: Epoch[010/020] Iteration[490/501] Loss: 4.8439\n",
      "Training: Epoch[010/020] Iteration[500/501] Loss: 4.8642\n"
     ]
    },
    {
     "name": "stderr",
     "output_type": "stream",
     "text": [
      "python(54532) MallocStackLogging: can't turn off malloc stack logging because it was not enabled.\n"
     ]
    },
    {
     "name": "stdout",
     "output_type": "stream",
     "text": [
      "Valid: Epoch[010/020] Iteration[501/501] Loss: 7.5477\n"
     ]
    },
    {
     "name": "stderr",
     "output_type": "stream",
     "text": [
      "python(54589) MallocStackLogging: can't turn off malloc stack logging because it was not enabled.\n"
     ]
    },
    {
     "name": "stdout",
     "output_type": "stream",
     "text": [
      "Training: Epoch[011/020] Iteration[010/501] Loss: 4.6608\n",
      "Training: Epoch[011/020] Iteration[020/501] Loss: 4.7584\n",
      "Training: Epoch[011/020] Iteration[030/501] Loss: 3.9805\n",
      "Training: Epoch[011/020] Iteration[040/501] Loss: 4.0690\n",
      "Training: Epoch[011/020] Iteration[050/501] Loss: 4.4010\n",
      "Training: Epoch[011/020] Iteration[060/501] Loss: 5.2539\n",
      "Training: Epoch[011/020] Iteration[070/501] Loss: 3.5625\n",
      "Training: Epoch[011/020] Iteration[080/501] Loss: 6.5291\n",
      "Training: Epoch[011/020] Iteration[090/501] Loss: 3.5330\n",
      "Training: Epoch[011/020] Iteration[100/501] Loss: 4.3120\n",
      "Training: Epoch[011/020] Iteration[110/501] Loss: 5.2259\n",
      "Training: Epoch[011/020] Iteration[120/501] Loss: 3.6978\n",
      "Training: Epoch[011/020] Iteration[130/501] Loss: 4.3054\n",
      "Training: Epoch[011/020] Iteration[140/501] Loss: 3.8206\n",
      "Training: Epoch[011/020] Iteration[150/501] Loss: 5.2437\n",
      "Training: Epoch[011/020] Iteration[160/501] Loss: 5.4507\n",
      "Training: Epoch[011/020] Iteration[170/501] Loss: 4.4434\n",
      "Training: Epoch[011/020] Iteration[180/501] Loss: 3.3242\n",
      "Training: Epoch[011/020] Iteration[190/501] Loss: 3.6672\n",
      "Training: Epoch[011/020] Iteration[200/501] Loss: 4.4257\n",
      "Training: Epoch[011/020] Iteration[210/501] Loss: 4.8108\n",
      "Training: Epoch[011/020] Iteration[220/501] Loss: 4.6468\n",
      "Training: Epoch[011/020] Iteration[230/501] Loss: 5.3695\n",
      "Training: Epoch[011/020] Iteration[240/501] Loss: 4.8762\n",
      "Training: Epoch[011/020] Iteration[250/501] Loss: 3.4200\n",
      "Training: Epoch[011/020] Iteration[260/501] Loss: 2.9531\n",
      "Training: Epoch[011/020] Iteration[270/501] Loss: 4.1571\n",
      "Training: Epoch[011/020] Iteration[280/501] Loss: 4.7753\n",
      "Training: Epoch[011/020] Iteration[290/501] Loss: 4.5098\n",
      "Training: Epoch[011/020] Iteration[300/501] Loss: 4.4742\n",
      "Training: Epoch[011/020] Iteration[310/501] Loss: 4.8286\n",
      "Training: Epoch[011/020] Iteration[320/501] Loss: 3.2193\n",
      "Training: Epoch[011/020] Iteration[330/501] Loss: 4.2129\n",
      "Training: Epoch[011/020] Iteration[340/501] Loss: 4.9679\n",
      "Training: Epoch[011/020] Iteration[350/501] Loss: 3.9735\n",
      "Training: Epoch[011/020] Iteration[360/501] Loss: 4.8931\n",
      "Training: Epoch[011/020] Iteration[370/501] Loss: 4.7417\n",
      "Training: Epoch[011/020] Iteration[380/501] Loss: 5.0042\n",
      "Training: Epoch[011/020] Iteration[390/501] Loss: 4.1951\n",
      "Training: Epoch[011/020] Iteration[400/501] Loss: 7.2374\n",
      "Training: Epoch[011/020] Iteration[410/501] Loss: 4.8013\n",
      "Training: Epoch[011/020] Iteration[420/501] Loss: 3.8138\n",
      "Training: Epoch[011/020] Iteration[430/501] Loss: 4.5981\n",
      "Training: Epoch[011/020] Iteration[440/501] Loss: 5.1675\n",
      "Training: Epoch[011/020] Iteration[450/501] Loss: 4.3051\n",
      "Training: Epoch[011/020] Iteration[460/501] Loss: 3.8242\n",
      "Training: Epoch[011/020] Iteration[470/501] Loss: 3.5827\n",
      "Training: Epoch[011/020] Iteration[480/501] Loss: 5.4398\n",
      "Training: Epoch[011/020] Iteration[490/501] Loss: 4.4753\n",
      "Training: Epoch[011/020] Iteration[500/501] Loss: 3.6040\n"
     ]
    },
    {
     "name": "stderr",
     "output_type": "stream",
     "text": [
      "python(55072) MallocStackLogging: can't turn off malloc stack logging because it was not enabled.\n"
     ]
    },
    {
     "name": "stdout",
     "output_type": "stream",
     "text": [
      "Valid: Epoch[011/020] Iteration[501/501] Loss: 7.0103\n"
     ]
    },
    {
     "name": "stderr",
     "output_type": "stream",
     "text": [
      "python(55147) MallocStackLogging: can't turn off malloc stack logging because it was not enabled.\n"
     ]
    },
    {
     "name": "stdout",
     "output_type": "stream",
     "text": [
      "Training: Epoch[012/020] Iteration[010/501] Loss: 5.2503\n",
      "Training: Epoch[012/020] Iteration[020/501] Loss: 3.8035\n",
      "Training: Epoch[012/020] Iteration[030/501] Loss: 4.8196\n",
      "Training: Epoch[012/020] Iteration[040/501] Loss: 4.3112\n",
      "Training: Epoch[012/020] Iteration[050/501] Loss: 3.4615\n",
      "Training: Epoch[012/020] Iteration[060/501] Loss: 4.1532\n",
      "Training: Epoch[012/020] Iteration[070/501] Loss: 4.9905\n",
      "Training: Epoch[012/020] Iteration[080/501] Loss: 3.5606\n",
      "Training: Epoch[012/020] Iteration[090/501] Loss: 3.6137\n",
      "Training: Epoch[012/020] Iteration[100/501] Loss: 4.1462\n",
      "Training: Epoch[012/020] Iteration[110/501] Loss: 3.6810\n",
      "Training: Epoch[012/020] Iteration[120/501] Loss: 4.1270\n",
      "Training: Epoch[012/020] Iteration[130/501] Loss: 4.0659\n",
      "Training: Epoch[012/020] Iteration[140/501] Loss: 4.5517\n",
      "Training: Epoch[012/020] Iteration[150/501] Loss: 4.9447\n",
      "Training: Epoch[012/020] Iteration[160/501] Loss: 3.6297\n",
      "Training: Epoch[012/020] Iteration[170/501] Loss: 3.2257\n",
      "Training: Epoch[012/020] Iteration[180/501] Loss: 3.9058\n",
      "Training: Epoch[012/020] Iteration[190/501] Loss: 3.8361\n",
      "Training: Epoch[012/020] Iteration[200/501] Loss: 4.9561\n",
      "Training: Epoch[012/020] Iteration[210/501] Loss: 4.8724\n",
      "Training: Epoch[012/020] Iteration[220/501] Loss: 4.4357\n",
      "Training: Epoch[012/020] Iteration[230/501] Loss: 3.6138\n",
      "Training: Epoch[012/020] Iteration[240/501] Loss: 3.1087\n",
      "Training: Epoch[012/020] Iteration[250/501] Loss: 4.9442\n",
      "Training: Epoch[012/020] Iteration[260/501] Loss: 4.1991\n",
      "Training: Epoch[012/020] Iteration[270/501] Loss: 3.3012\n",
      "Training: Epoch[012/020] Iteration[280/501] Loss: 3.6646\n",
      "Training: Epoch[012/020] Iteration[290/501] Loss: 3.4022\n",
      "Training: Epoch[012/020] Iteration[300/501] Loss: 3.6759\n",
      "Training: Epoch[012/020] Iteration[310/501] Loss: 3.2291\n",
      "Training: Epoch[012/020] Iteration[320/501] Loss: 4.7246\n",
      "Training: Epoch[012/020] Iteration[330/501] Loss: 5.8362\n",
      "Training: Epoch[012/020] Iteration[340/501] Loss: 4.3940\n",
      "Training: Epoch[012/020] Iteration[350/501] Loss: 3.7239\n",
      "Training: Epoch[012/020] Iteration[360/501] Loss: 3.4055\n",
      "Training: Epoch[012/020] Iteration[370/501] Loss: 4.0917\n",
      "Training: Epoch[012/020] Iteration[380/501] Loss: 3.9076\n",
      "Training: Epoch[012/020] Iteration[390/501] Loss: 4.6385\n",
      "Training: Epoch[012/020] Iteration[400/501] Loss: 5.0109\n",
      "Training: Epoch[012/020] Iteration[410/501] Loss: 3.1835\n",
      "Training: Epoch[012/020] Iteration[420/501] Loss: 3.6026\n",
      "Training: Epoch[012/020] Iteration[430/501] Loss: 4.3986\n",
      "Training: Epoch[012/020] Iteration[440/501] Loss: 3.9809\n",
      "Training: Epoch[012/020] Iteration[450/501] Loss: 4.2697\n",
      "Training: Epoch[012/020] Iteration[460/501] Loss: 3.5442\n",
      "Training: Epoch[012/020] Iteration[470/501] Loss: 4.2497\n",
      "Training: Epoch[012/020] Iteration[480/501] Loss: 4.1032\n",
      "Training: Epoch[012/020] Iteration[490/501] Loss: 4.8937\n",
      "Training: Epoch[012/020] Iteration[500/501] Loss: 5.8877\n"
     ]
    },
    {
     "name": "stderr",
     "output_type": "stream",
     "text": [
      "python(55693) MallocStackLogging: can't turn off malloc stack logging because it was not enabled.\n"
     ]
    },
    {
     "name": "stdout",
     "output_type": "stream",
     "text": [
      "Valid: Epoch[012/020] Iteration[501/501] Loss: 7.1818\n"
     ]
    },
    {
     "name": "stderr",
     "output_type": "stream",
     "text": [
      "python(55780) MallocStackLogging: can't turn off malloc stack logging because it was not enabled.\n"
     ]
    },
    {
     "name": "stdout",
     "output_type": "stream",
     "text": [
      "Training: Epoch[013/020] Iteration[010/501] Loss: 4.3410\n",
      "Training: Epoch[013/020] Iteration[020/501] Loss: 4.2721\n",
      "Training: Epoch[013/020] Iteration[030/501] Loss: 4.4973\n",
      "Training: Epoch[013/020] Iteration[040/501] Loss: 4.3514\n",
      "Training: Epoch[013/020] Iteration[050/501] Loss: 4.4605\n",
      "Training: Epoch[013/020] Iteration[060/501] Loss: 2.8226\n",
      "Training: Epoch[013/020] Iteration[070/501] Loss: 4.1230\n",
      "Training: Epoch[013/020] Iteration[080/501] Loss: 3.6081\n",
      "Training: Epoch[013/020] Iteration[090/501] Loss: 3.8821\n",
      "Training: Epoch[013/020] Iteration[100/501] Loss: 3.2377\n",
      "Training: Epoch[013/020] Iteration[110/501] Loss: 4.3251\n",
      "Training: Epoch[013/020] Iteration[120/501] Loss: 4.3427\n",
      "Training: Epoch[013/020] Iteration[130/501] Loss: 4.9099\n",
      "Training: Epoch[013/020] Iteration[140/501] Loss: 4.7477\n",
      "Training: Epoch[013/020] Iteration[150/501] Loss: 3.8844\n",
      "Training: Epoch[013/020] Iteration[160/501] Loss: 4.0496\n",
      "Training: Epoch[013/020] Iteration[170/501] Loss: 3.4048\n",
      "Training: Epoch[013/020] Iteration[180/501] Loss: 3.9980\n",
      "Training: Epoch[013/020] Iteration[190/501] Loss: 4.3684\n",
      "Training: Epoch[013/020] Iteration[200/501] Loss: 3.8649\n",
      "Training: Epoch[013/020] Iteration[210/501] Loss: 3.7710\n",
      "Training: Epoch[013/020] Iteration[220/501] Loss: 3.7539\n",
      "Training: Epoch[013/020] Iteration[230/501] Loss: 2.7230\n",
      "Training: Epoch[013/020] Iteration[240/501] Loss: 3.1128\n",
      "Training: Epoch[013/020] Iteration[250/501] Loss: 3.1008\n",
      "Training: Epoch[013/020] Iteration[260/501] Loss: 3.9017\n",
      "Training: Epoch[013/020] Iteration[270/501] Loss: 3.6348\n",
      "Training: Epoch[013/020] Iteration[280/501] Loss: 4.2430\n",
      "Training: Epoch[013/020] Iteration[290/501] Loss: 4.0364\n",
      "Training: Epoch[013/020] Iteration[300/501] Loss: 3.4046\n",
      "Training: Epoch[013/020] Iteration[310/501] Loss: 3.9807\n",
      "Training: Epoch[013/020] Iteration[320/501] Loss: 3.3537\n",
      "Training: Epoch[013/020] Iteration[330/501] Loss: 4.3860\n",
      "Training: Epoch[013/020] Iteration[340/501] Loss: 3.4729\n",
      "Training: Epoch[013/020] Iteration[350/501] Loss: 4.9345\n",
      "Training: Epoch[013/020] Iteration[360/501] Loss: 3.1365\n",
      "Training: Epoch[013/020] Iteration[370/501] Loss: 4.0013\n",
      "Training: Epoch[013/020] Iteration[380/501] Loss: 4.2430\n",
      "Training: Epoch[013/020] Iteration[390/501] Loss: 3.8886\n",
      "Training: Epoch[013/020] Iteration[400/501] Loss: 4.2982\n",
      "Training: Epoch[013/020] Iteration[410/501] Loss: 3.3192\n",
      "Training: Epoch[013/020] Iteration[420/501] Loss: 3.7294\n",
      "Training: Epoch[013/020] Iteration[430/501] Loss: 4.9489\n",
      "Training: Epoch[013/020] Iteration[440/501] Loss: 3.6074\n",
      "Training: Epoch[013/020] Iteration[450/501] Loss: 3.2483\n",
      "Training: Epoch[013/020] Iteration[460/501] Loss: 3.2492\n",
      "Training: Epoch[013/020] Iteration[470/501] Loss: 5.0012\n",
      "Training: Epoch[013/020] Iteration[480/501] Loss: 4.4566\n",
      "Training: Epoch[013/020] Iteration[490/501] Loss: 4.1236\n",
      "Training: Epoch[013/020] Iteration[500/501] Loss: 4.3858\n"
     ]
    },
    {
     "name": "stderr",
     "output_type": "stream",
     "text": [
      "python(56301) MallocStackLogging: can't turn off malloc stack logging because it was not enabled.\n"
     ]
    },
    {
     "name": "stdout",
     "output_type": "stream",
     "text": [
      "Valid: Epoch[013/020] Iteration[501/501] Loss: 6.9892\n"
     ]
    },
    {
     "name": "stderr",
     "output_type": "stream",
     "text": [
      "python(56395) MallocStackLogging: can't turn off malloc stack logging because it was not enabled.\n"
     ]
    },
    {
     "name": "stdout",
     "output_type": "stream",
     "text": [
      "Training: Epoch[014/020] Iteration[010/501] Loss: 4.3521\n",
      "Training: Epoch[014/020] Iteration[020/501] Loss: 3.5666\n",
      "Training: Epoch[014/020] Iteration[030/501] Loss: 3.4853\n",
      "Training: Epoch[014/020] Iteration[040/501] Loss: 3.8524\n",
      "Training: Epoch[014/020] Iteration[050/501] Loss: 2.9791\n",
      "Training: Epoch[014/020] Iteration[060/501] Loss: 3.2978\n",
      "Training: Epoch[014/020] Iteration[070/501] Loss: 3.3511\n",
      "Training: Epoch[014/020] Iteration[080/501] Loss: 3.9908\n",
      "Training: Epoch[014/020] Iteration[090/501] Loss: 4.5615\n",
      "Training: Epoch[014/020] Iteration[100/501] Loss: 3.3901\n",
      "Training: Epoch[014/020] Iteration[110/501] Loss: 4.5843\n",
      "Training: Epoch[014/020] Iteration[120/501] Loss: 3.7425\n",
      "Training: Epoch[014/020] Iteration[130/501] Loss: 3.4506\n",
      "Training: Epoch[014/020] Iteration[140/501] Loss: 4.2193\n",
      "Training: Epoch[014/020] Iteration[150/501] Loss: 2.8520\n",
      "Training: Epoch[014/020] Iteration[160/501] Loss: 4.4028\n",
      "Training: Epoch[014/020] Iteration[170/501] Loss: 2.8071\n",
      "Training: Epoch[014/020] Iteration[180/501] Loss: 3.4752\n",
      "Training: Epoch[014/020] Iteration[190/501] Loss: 3.5434\n",
      "Training: Epoch[014/020] Iteration[200/501] Loss: 3.1326\n",
      "Training: Epoch[014/020] Iteration[210/501] Loss: 3.7142\n",
      "Training: Epoch[014/020] Iteration[220/501] Loss: 3.0283\n",
      "Training: Epoch[014/020] Iteration[230/501] Loss: 3.5196\n",
      "Training: Epoch[014/020] Iteration[240/501] Loss: 3.7223\n",
      "Training: Epoch[014/020] Iteration[250/501] Loss: 3.7223\n",
      "Training: Epoch[014/020] Iteration[260/501] Loss: 3.2521\n",
      "Training: Epoch[014/020] Iteration[270/501] Loss: 4.5032\n",
      "Training: Epoch[014/020] Iteration[280/501] Loss: 3.9737\n",
      "Training: Epoch[014/020] Iteration[290/501] Loss: 4.8806\n",
      "Training: Epoch[014/020] Iteration[300/501] Loss: 5.1632\n",
      "Training: Epoch[014/020] Iteration[310/501] Loss: 4.3370\n",
      "Training: Epoch[014/020] Iteration[320/501] Loss: 4.2124\n",
      "Training: Epoch[014/020] Iteration[330/501] Loss: 4.1825\n",
      "Training: Epoch[014/020] Iteration[340/501] Loss: 4.2463\n",
      "Training: Epoch[014/020] Iteration[350/501] Loss: 3.6469\n",
      "Training: Epoch[014/020] Iteration[360/501] Loss: 3.1742\n",
      "Training: Epoch[014/020] Iteration[370/501] Loss: 3.4850\n",
      "Training: Epoch[014/020] Iteration[380/501] Loss: 3.9148\n",
      "Training: Epoch[014/020] Iteration[390/501] Loss: 2.5981\n",
      "Training: Epoch[014/020] Iteration[400/501] Loss: 3.6578\n",
      "Training: Epoch[014/020] Iteration[410/501] Loss: 3.6056\n",
      "Training: Epoch[014/020] Iteration[420/501] Loss: 2.7116\n",
      "Training: Epoch[014/020] Iteration[430/501] Loss: 2.8782\n",
      "Training: Epoch[014/020] Iteration[440/501] Loss: 3.3348\n",
      "Training: Epoch[014/020] Iteration[450/501] Loss: 3.8781\n",
      "Training: Epoch[014/020] Iteration[460/501] Loss: 3.7508\n",
      "Training: Epoch[014/020] Iteration[470/501] Loss: 4.2802\n",
      "Training: Epoch[014/020] Iteration[480/501] Loss: 3.5361\n",
      "Training: Epoch[014/020] Iteration[490/501] Loss: 3.7845\n",
      "Training: Epoch[014/020] Iteration[500/501] Loss: 4.7016\n"
     ]
    },
    {
     "name": "stderr",
     "output_type": "stream",
     "text": [
      "python(56907) MallocStackLogging: can't turn off malloc stack logging because it was not enabled.\n"
     ]
    },
    {
     "name": "stdout",
     "output_type": "stream",
     "text": [
      "Valid: Epoch[014/020] Iteration[501/501] Loss: 6.4247\n"
     ]
    },
    {
     "name": "stderr",
     "output_type": "stream",
     "text": [
      "python(56969) MallocStackLogging: can't turn off malloc stack logging because it was not enabled.\n"
     ]
    },
    {
     "name": "stdout",
     "output_type": "stream",
     "text": [
      "Training: Epoch[015/020] Iteration[010/501] Loss: 3.5053\n",
      "Training: Epoch[015/020] Iteration[020/501] Loss: 3.5310\n",
      "Training: Epoch[015/020] Iteration[030/501] Loss: 3.4255\n",
      "Training: Epoch[015/020] Iteration[040/501] Loss: 3.3116\n",
      "Training: Epoch[015/020] Iteration[050/501] Loss: 2.7160\n",
      "Training: Epoch[015/020] Iteration[060/501] Loss: 3.3035\n",
      "Training: Epoch[015/020] Iteration[070/501] Loss: 3.3299\n",
      "Training: Epoch[015/020] Iteration[080/501] Loss: 3.5936\n",
      "Training: Epoch[015/020] Iteration[090/501] Loss: 3.7078\n",
      "Training: Epoch[015/020] Iteration[100/501] Loss: 2.9790\n",
      "Training: Epoch[015/020] Iteration[110/501] Loss: 5.0209\n",
      "Training: Epoch[015/020] Iteration[120/501] Loss: 3.4171\n",
      "Training: Epoch[015/020] Iteration[130/501] Loss: 3.4965\n",
      "Training: Epoch[015/020] Iteration[140/501] Loss: 3.4526\n",
      "Training: Epoch[015/020] Iteration[150/501] Loss: 3.3740\n",
      "Training: Epoch[015/020] Iteration[160/501] Loss: 3.6174\n",
      "Training: Epoch[015/020] Iteration[170/501] Loss: 4.8849\n",
      "Training: Epoch[015/020] Iteration[180/501] Loss: 4.5697\n",
      "Training: Epoch[015/020] Iteration[190/501] Loss: 3.8552\n",
      "Training: Epoch[015/020] Iteration[200/501] Loss: 4.3938\n",
      "Training: Epoch[015/020] Iteration[210/501] Loss: 2.7786\n",
      "Training: Epoch[015/020] Iteration[220/501] Loss: 3.8458\n",
      "Training: Epoch[015/020] Iteration[230/501] Loss: 3.1672\n",
      "Training: Epoch[015/020] Iteration[240/501] Loss: 4.2628\n",
      "Training: Epoch[015/020] Iteration[250/501] Loss: 3.8374\n",
      "Training: Epoch[015/020] Iteration[260/501] Loss: 3.3863\n",
      "Training: Epoch[015/020] Iteration[270/501] Loss: 3.3390\n",
      "Training: Epoch[015/020] Iteration[280/501] Loss: 4.4492\n",
      "Training: Epoch[015/020] Iteration[290/501] Loss: 3.2022\n",
      "Training: Epoch[015/020] Iteration[300/501] Loss: 3.1295\n",
      "Training: Epoch[015/020] Iteration[310/501] Loss: 2.5406\n",
      "Training: Epoch[015/020] Iteration[320/501] Loss: 2.8628\n",
      "Training: Epoch[015/020] Iteration[330/501] Loss: 3.5051\n",
      "Training: Epoch[015/020] Iteration[340/501] Loss: 3.0206\n",
      "Training: Epoch[015/020] Iteration[350/501] Loss: 3.2665\n",
      "Training: Epoch[015/020] Iteration[360/501] Loss: 2.8475\n",
      "Training: Epoch[015/020] Iteration[370/501] Loss: 3.2068\n",
      "Training: Epoch[015/020] Iteration[380/501] Loss: 2.6201\n",
      "Training: Epoch[015/020] Iteration[390/501] Loss: 3.8645\n",
      "Training: Epoch[015/020] Iteration[400/501] Loss: 3.1595\n",
      "Training: Epoch[015/020] Iteration[410/501] Loss: 3.2955\n",
      "Training: Epoch[015/020] Iteration[420/501] Loss: 3.6594\n",
      "Training: Epoch[015/020] Iteration[430/501] Loss: 4.5217\n",
      "Training: Epoch[015/020] Iteration[440/501] Loss: 5.2055\n",
      "Training: Epoch[015/020] Iteration[450/501] Loss: 2.9925\n",
      "Training: Epoch[015/020] Iteration[460/501] Loss: 3.2299\n",
      "Training: Epoch[015/020] Iteration[470/501] Loss: 3.0849\n",
      "Training: Epoch[015/020] Iteration[480/501] Loss: 3.7183\n",
      "Training: Epoch[015/020] Iteration[490/501] Loss: 2.9778\n",
      "Training: Epoch[015/020] Iteration[500/501] Loss: 4.5833\n"
     ]
    },
    {
     "name": "stderr",
     "output_type": "stream",
     "text": [
      "python(57429) MallocStackLogging: can't turn off malloc stack logging because it was not enabled.\n"
     ]
    },
    {
     "name": "stdout",
     "output_type": "stream",
     "text": [
      "Valid: Epoch[015/020] Iteration[501/501] Loss: 7.1975\n"
     ]
    },
    {
     "name": "stderr",
     "output_type": "stream",
     "text": [
      "python(57507) MallocStackLogging: can't turn off malloc stack logging because it was not enabled.\n"
     ]
    },
    {
     "name": "stdout",
     "output_type": "stream",
     "text": [
      "Training: Epoch[016/020] Iteration[010/501] Loss: 2.5582\n",
      "Training: Epoch[016/020] Iteration[020/501] Loss: 3.2896\n",
      "Training: Epoch[016/020] Iteration[030/501] Loss: 3.8831\n",
      "Training: Epoch[016/020] Iteration[040/501] Loss: 3.4168\n",
      "Training: Epoch[016/020] Iteration[050/501] Loss: 2.8053\n",
      "Training: Epoch[016/020] Iteration[060/501] Loss: 2.8472\n",
      "Training: Epoch[016/020] Iteration[070/501] Loss: 3.4587\n",
      "Training: Epoch[016/020] Iteration[080/501] Loss: 3.7815\n",
      "Training: Epoch[016/020] Iteration[090/501] Loss: 3.3504\n",
      "Training: Epoch[016/020] Iteration[100/501] Loss: 3.2981\n",
      "Training: Epoch[016/020] Iteration[110/501] Loss: 2.7838\n",
      "Training: Epoch[016/020] Iteration[120/501] Loss: 2.9577\n",
      "Training: Epoch[016/020] Iteration[130/501] Loss: 3.0303\n",
      "Training: Epoch[016/020] Iteration[140/501] Loss: 3.9144\n",
      "Training: Epoch[016/020] Iteration[150/501] Loss: 3.5087\n",
      "Training: Epoch[016/020] Iteration[160/501] Loss: 3.3001\n",
      "Training: Epoch[016/020] Iteration[170/501] Loss: 3.4337\n",
      "Training: Epoch[016/020] Iteration[180/501] Loss: 6.2296\n",
      "Training: Epoch[016/020] Iteration[190/501] Loss: 3.7570\n",
      "Training: Epoch[016/020] Iteration[200/501] Loss: 3.6763\n",
      "Training: Epoch[016/020] Iteration[210/501] Loss: 3.9727\n",
      "Training: Epoch[016/020] Iteration[220/501] Loss: 3.0419\n",
      "Training: Epoch[016/020] Iteration[230/501] Loss: 2.8591\n",
      "Training: Epoch[016/020] Iteration[240/501] Loss: 3.8716\n",
      "Training: Epoch[016/020] Iteration[250/501] Loss: 3.6036\n",
      "Training: Epoch[016/020] Iteration[260/501] Loss: 3.4306\n",
      "Training: Epoch[016/020] Iteration[270/501] Loss: 3.1121\n",
      "Training: Epoch[016/020] Iteration[280/501] Loss: 3.1206\n",
      "Training: Epoch[016/020] Iteration[290/501] Loss: 3.5089\n",
      "Training: Epoch[016/020] Iteration[300/501] Loss: 2.9511\n",
      "Training: Epoch[016/020] Iteration[310/501] Loss: 3.2597\n",
      "Training: Epoch[016/020] Iteration[320/501] Loss: 4.7419\n",
      "Training: Epoch[016/020] Iteration[330/501] Loss: 3.8805\n",
      "Training: Epoch[016/020] Iteration[340/501] Loss: 2.9465\n",
      "Training: Epoch[016/020] Iteration[350/501] Loss: 4.4648\n",
      "Training: Epoch[016/020] Iteration[360/501] Loss: 2.9993\n",
      "Training: Epoch[016/020] Iteration[370/501] Loss: 3.0550\n",
      "Training: Epoch[016/020] Iteration[380/501] Loss: 3.7868\n",
      "Training: Epoch[016/020] Iteration[390/501] Loss: 2.8895\n",
      "Training: Epoch[016/020] Iteration[400/501] Loss: 3.8181\n",
      "Training: Epoch[016/020] Iteration[410/501] Loss: 4.1891\n",
      "Training: Epoch[016/020] Iteration[420/501] Loss: 3.1475\n",
      "Training: Epoch[016/020] Iteration[430/501] Loss: 2.9943\n",
      "Training: Epoch[016/020] Iteration[440/501] Loss: 2.6652\n",
      "Training: Epoch[016/020] Iteration[450/501] Loss: 2.5948\n",
      "Training: Epoch[016/020] Iteration[460/501] Loss: 2.6776\n",
      "Training: Epoch[016/020] Iteration[470/501] Loss: 2.9965\n",
      "Training: Epoch[016/020] Iteration[480/501] Loss: 3.9705\n",
      "Training: Epoch[016/020] Iteration[490/501] Loss: 2.8432\n",
      "Training: Epoch[016/020] Iteration[500/501] Loss: 2.8098\n"
     ]
    },
    {
     "name": "stderr",
     "output_type": "stream",
     "text": [
      "python(58017) MallocStackLogging: can't turn off malloc stack logging because it was not enabled.\n"
     ]
    },
    {
     "name": "stdout",
     "output_type": "stream",
     "text": [
      "Valid: Epoch[016/020] Iteration[501/501] Loss: 7.0116\n"
     ]
    },
    {
     "name": "stderr",
     "output_type": "stream",
     "text": [
      "python(58088) MallocStackLogging: can't turn off malloc stack logging because it was not enabled.\n"
     ]
    },
    {
     "name": "stdout",
     "output_type": "stream",
     "text": [
      "Training: Epoch[017/020] Iteration[010/501] Loss: 2.8337\n",
      "Training: Epoch[017/020] Iteration[020/501] Loss: 4.0240\n",
      "Training: Epoch[017/020] Iteration[030/501] Loss: 2.4415\n",
      "Training: Epoch[017/020] Iteration[040/501] Loss: 3.0053\n",
      "Training: Epoch[017/020] Iteration[050/501] Loss: 3.0911\n",
      "Training: Epoch[017/020] Iteration[060/501] Loss: 2.8292\n",
      "Training: Epoch[017/020] Iteration[070/501] Loss: 3.2767\n",
      "Training: Epoch[017/020] Iteration[080/501] Loss: 3.1337\n",
      "Training: Epoch[017/020] Iteration[090/501] Loss: 2.9678\n",
      "Training: Epoch[017/020] Iteration[100/501] Loss: 2.3185\n",
      "Training: Epoch[017/020] Iteration[110/501] Loss: 2.9826\n",
      "Training: Epoch[017/020] Iteration[120/501] Loss: 3.4830\n",
      "Training: Epoch[017/020] Iteration[130/501] Loss: 3.4522\n",
      "Training: Epoch[017/020] Iteration[140/501] Loss: 2.8644\n",
      "Training: Epoch[017/020] Iteration[150/501] Loss: 2.6267\n",
      "Training: Epoch[017/020] Iteration[160/501] Loss: 3.7542\n",
      "Training: Epoch[017/020] Iteration[170/501] Loss: 2.4798\n",
      "Training: Epoch[017/020] Iteration[180/501] Loss: 2.9963\n",
      "Training: Epoch[017/020] Iteration[190/501] Loss: 3.4533\n",
      "Training: Epoch[017/020] Iteration[200/501] Loss: 3.0101\n",
      "Training: Epoch[017/020] Iteration[210/501] Loss: 3.2863\n",
      "Training: Epoch[017/020] Iteration[220/501] Loss: 4.5563\n",
      "Training: Epoch[017/020] Iteration[230/501] Loss: 2.7836\n",
      "Training: Epoch[017/020] Iteration[240/501] Loss: 3.4469\n",
      "Training: Epoch[017/020] Iteration[250/501] Loss: 4.0621\n",
      "Training: Epoch[017/020] Iteration[260/501] Loss: 2.7597\n",
      "Training: Epoch[017/020] Iteration[270/501] Loss: 4.1979\n",
      "Training: Epoch[017/020] Iteration[280/501] Loss: 2.8393\n",
      "Training: Epoch[017/020] Iteration[290/501] Loss: 3.1770\n",
      "Training: Epoch[017/020] Iteration[300/501] Loss: 2.9008\n",
      "Training: Epoch[017/020] Iteration[310/501] Loss: 3.5847\n",
      "Training: Epoch[017/020] Iteration[320/501] Loss: 3.6335\n",
      "Training: Epoch[017/020] Iteration[330/501] Loss: 3.9412\n",
      "Training: Epoch[017/020] Iteration[340/501] Loss: 3.4260\n",
      "Training: Epoch[017/020] Iteration[350/501] Loss: 3.3876\n",
      "Training: Epoch[017/020] Iteration[360/501] Loss: 3.4492\n",
      "Training: Epoch[017/020] Iteration[370/501] Loss: 3.4077\n",
      "Training: Epoch[017/020] Iteration[380/501] Loss: 2.7048\n",
      "Training: Epoch[017/020] Iteration[390/501] Loss: 2.6383\n",
      "Training: Epoch[017/020] Iteration[400/501] Loss: 2.4454\n",
      "Training: Epoch[017/020] Iteration[410/501] Loss: 3.2391\n",
      "Training: Epoch[017/020] Iteration[420/501] Loss: 2.7105\n",
      "Training: Epoch[017/020] Iteration[430/501] Loss: 2.4687\n",
      "Training: Epoch[017/020] Iteration[440/501] Loss: 3.0718\n",
      "Training: Epoch[017/020] Iteration[450/501] Loss: 3.1764\n",
      "Training: Epoch[017/020] Iteration[460/501] Loss: 2.9837\n",
      "Training: Epoch[017/020] Iteration[470/501] Loss: 4.7971\n",
      "Training: Epoch[017/020] Iteration[480/501] Loss: 3.3527\n",
      "Training: Epoch[017/020] Iteration[490/501] Loss: 4.3112\n",
      "Training: Epoch[017/020] Iteration[500/501] Loss: 3.4305\n"
     ]
    },
    {
     "name": "stderr",
     "output_type": "stream",
     "text": [
      "python(58542) MallocStackLogging: can't turn off malloc stack logging because it was not enabled.\n"
     ]
    },
    {
     "name": "stdout",
     "output_type": "stream",
     "text": [
      "Valid: Epoch[017/020] Iteration[501/501] Loss: 6.5909\n"
     ]
    },
    {
     "name": "stderr",
     "output_type": "stream",
     "text": [
      "python(58605) MallocStackLogging: can't turn off malloc stack logging because it was not enabled.\n"
     ]
    },
    {
     "name": "stdout",
     "output_type": "stream",
     "text": [
      "Training: Epoch[018/020] Iteration[010/501] Loss: 3.0944\n",
      "Training: Epoch[018/020] Iteration[020/501] Loss: 2.8589\n",
      "Training: Epoch[018/020] Iteration[030/501] Loss: 3.0793\n",
      "Training: Epoch[018/020] Iteration[040/501] Loss: 5.0700\n",
      "Training: Epoch[018/020] Iteration[050/501] Loss: 3.3699\n",
      "Training: Epoch[018/020] Iteration[060/501] Loss: 3.5569\n",
      "Training: Epoch[018/020] Iteration[070/501] Loss: 2.1733\n",
      "Training: Epoch[018/020] Iteration[080/501] Loss: 2.9779\n",
      "Training: Epoch[018/020] Iteration[090/501] Loss: 3.2136\n",
      "Training: Epoch[018/020] Iteration[100/501] Loss: 3.2622\n",
      "Training: Epoch[018/020] Iteration[110/501] Loss: 3.2349\n",
      "Training: Epoch[018/020] Iteration[120/501] Loss: 3.2590\n",
      "Training: Epoch[018/020] Iteration[130/501] Loss: 2.8514\n",
      "Training: Epoch[018/020] Iteration[140/501] Loss: 2.7069\n",
      "Training: Epoch[018/020] Iteration[150/501] Loss: 3.1759\n",
      "Training: Epoch[018/020] Iteration[160/501] Loss: 2.7986\n",
      "Training: Epoch[018/020] Iteration[170/501] Loss: 3.2043\n",
      "Training: Epoch[018/020] Iteration[180/501] Loss: 2.7117\n",
      "Training: Epoch[018/020] Iteration[190/501] Loss: 3.0496\n",
      "Training: Epoch[018/020] Iteration[200/501] Loss: 2.6246\n",
      "Training: Epoch[018/020] Iteration[210/501] Loss: 2.5356\n",
      "Training: Epoch[018/020] Iteration[220/501] Loss: 2.7604\n",
      "Training: Epoch[018/020] Iteration[230/501] Loss: 3.2370\n",
      "Training: Epoch[018/020] Iteration[240/501] Loss: 3.1779\n",
      "Training: Epoch[018/020] Iteration[250/501] Loss: 2.9616\n",
      "Training: Epoch[018/020] Iteration[260/501] Loss: 2.6581\n",
      "Training: Epoch[018/020] Iteration[270/501] Loss: 2.4740\n",
      "Training: Epoch[018/020] Iteration[280/501] Loss: 3.0991\n",
      "Training: Epoch[018/020] Iteration[290/501] Loss: 4.2504\n",
      "Training: Epoch[018/020] Iteration[300/501] Loss: 2.4314\n",
      "Training: Epoch[018/020] Iteration[310/501] Loss: 3.2339\n",
      "Training: Epoch[018/020] Iteration[320/501] Loss: 2.3239\n",
      "Training: Epoch[018/020] Iteration[330/501] Loss: 3.6420\n",
      "Training: Epoch[018/020] Iteration[340/501] Loss: 3.0740\n",
      "Training: Epoch[018/020] Iteration[350/501] Loss: 2.5025\n",
      "Training: Epoch[018/020] Iteration[360/501] Loss: 2.9177\n",
      "Training: Epoch[018/020] Iteration[370/501] Loss: 2.7487\n",
      "Training: Epoch[018/020] Iteration[380/501] Loss: 2.6772\n",
      "Training: Epoch[018/020] Iteration[390/501] Loss: 3.8046\n",
      "Training: Epoch[018/020] Iteration[400/501] Loss: 2.5265\n",
      "Training: Epoch[018/020] Iteration[410/501] Loss: 2.9069\n",
      "Training: Epoch[018/020] Iteration[420/501] Loss: 2.5078\n",
      "Training: Epoch[018/020] Iteration[430/501] Loss: 2.7523\n",
      "Training: Epoch[018/020] Iteration[440/501] Loss: 3.5185\n",
      "Training: Epoch[018/020] Iteration[450/501] Loss: 2.8278\n",
      "Training: Epoch[018/020] Iteration[460/501] Loss: 2.7016\n",
      "Training: Epoch[018/020] Iteration[470/501] Loss: 3.7604\n",
      "Training: Epoch[018/020] Iteration[480/501] Loss: 3.2218\n",
      "Training: Epoch[018/020] Iteration[490/501] Loss: 3.5293\n",
      "Training: Epoch[018/020] Iteration[500/501] Loss: 2.8491\n"
     ]
    },
    {
     "name": "stderr",
     "output_type": "stream",
     "text": [
      "python(59035) MallocStackLogging: can't turn off malloc stack logging because it was not enabled.\n"
     ]
    },
    {
     "name": "stdout",
     "output_type": "stream",
     "text": [
      "Valid: Epoch[018/020] Iteration[501/501] Loss: 6.1188\n"
     ]
    },
    {
     "name": "stderr",
     "output_type": "stream",
     "text": [
      "python(59087) MallocStackLogging: can't turn off malloc stack logging because it was not enabled.\n"
     ]
    },
    {
     "name": "stdout",
     "output_type": "stream",
     "text": [
      "Training: Epoch[019/020] Iteration[010/501] Loss: 2.3275\n",
      "Training: Epoch[019/020] Iteration[020/501] Loss: 2.7709\n",
      "Training: Epoch[019/020] Iteration[030/501] Loss: 2.8152\n",
      "Training: Epoch[019/020] Iteration[040/501] Loss: 3.2274\n",
      "Training: Epoch[019/020] Iteration[050/501] Loss: 2.4177\n",
      "Training: Epoch[019/020] Iteration[060/501] Loss: 2.9212\n",
      "Training: Epoch[019/020] Iteration[070/501] Loss: 2.3044\n",
      "Training: Epoch[019/020] Iteration[080/501] Loss: 3.1531\n",
      "Training: Epoch[019/020] Iteration[090/501] Loss: 3.0878\n",
      "Training: Epoch[019/020] Iteration[100/501] Loss: 3.3386\n",
      "Training: Epoch[019/020] Iteration[110/501] Loss: 3.2825\n",
      "Training: Epoch[019/020] Iteration[120/501] Loss: 2.5395\n",
      "Training: Epoch[019/020] Iteration[130/501] Loss: 3.1956\n",
      "Training: Epoch[019/020] Iteration[140/501] Loss: 3.9969\n",
      "Training: Epoch[019/020] Iteration[150/501] Loss: 2.5841\n",
      "Training: Epoch[019/020] Iteration[160/501] Loss: 3.4169\n",
      "Training: Epoch[019/020] Iteration[170/501] Loss: 2.9861\n",
      "Training: Epoch[019/020] Iteration[180/501] Loss: 2.6389\n",
      "Training: Epoch[019/020] Iteration[190/501] Loss: 2.6622\n",
      "Training: Epoch[019/020] Iteration[200/501] Loss: 2.6750\n",
      "Training: Epoch[019/020] Iteration[210/501] Loss: 3.1160\n",
      "Training: Epoch[019/020] Iteration[220/501] Loss: 3.8000\n",
      "Training: Epoch[019/020] Iteration[230/501] Loss: 3.0306\n",
      "Training: Epoch[019/020] Iteration[240/501] Loss: 3.3447\n",
      "Training: Epoch[019/020] Iteration[250/501] Loss: 3.0371\n",
      "Training: Epoch[019/020] Iteration[260/501] Loss: 2.8827\n",
      "Training: Epoch[019/020] Iteration[270/501] Loss: 2.5714\n",
      "Training: Epoch[019/020] Iteration[280/501] Loss: 3.0724\n",
      "Training: Epoch[019/020] Iteration[290/501] Loss: 3.4499\n",
      "Training: Epoch[019/020] Iteration[300/501] Loss: 3.1820\n",
      "Training: Epoch[019/020] Iteration[310/501] Loss: 3.0192\n",
      "Training: Epoch[019/020] Iteration[320/501] Loss: 3.0580\n",
      "Training: Epoch[019/020] Iteration[330/501] Loss: 3.4696\n",
      "Training: Epoch[019/020] Iteration[340/501] Loss: 2.3566\n",
      "Training: Epoch[019/020] Iteration[350/501] Loss: 2.5847\n",
      "Training: Epoch[019/020] Iteration[360/501] Loss: 2.7487\n",
      "Training: Epoch[019/020] Iteration[370/501] Loss: 2.7272\n",
      "Training: Epoch[019/020] Iteration[380/501] Loss: 3.0929\n",
      "Training: Epoch[019/020] Iteration[390/501] Loss: 3.8551\n",
      "Training: Epoch[019/020] Iteration[400/501] Loss: 2.9929\n",
      "Training: Epoch[019/020] Iteration[410/501] Loss: 2.6705\n",
      "Training: Epoch[019/020] Iteration[420/501] Loss: 2.3895\n",
      "Training: Epoch[019/020] Iteration[430/501] Loss: 2.6767\n",
      "Training: Epoch[019/020] Iteration[440/501] Loss: 2.7481\n",
      "Training: Epoch[019/020] Iteration[450/501] Loss: 3.4855\n",
      "Training: Epoch[019/020] Iteration[460/501] Loss: 3.6002\n",
      "Training: Epoch[019/020] Iteration[470/501] Loss: 3.3296\n",
      "Training: Epoch[019/020] Iteration[480/501] Loss: 2.3313\n",
      "Training: Epoch[019/020] Iteration[490/501] Loss: 3.1543\n",
      "Training: Epoch[019/020] Iteration[500/501] Loss: 4.0157\n"
     ]
    },
    {
     "name": "stderr",
     "output_type": "stream",
     "text": [
      "python(59537) MallocStackLogging: can't turn off malloc stack logging because it was not enabled.\n"
     ]
    },
    {
     "name": "stdout",
     "output_type": "stream",
     "text": [
      "Valid: Epoch[019/020] Iteration[501/501] Loss: 6.5877\n"
     ]
    }
   ],
   "source": [
    "train_curve = list() \n",
    "valid_curve = list()\n",
    "\n",
    "for epoch in range(start_epoch + 1, MAX_EPOCH):\n",
    "\n",
    "    loss_mean = 0.\n",
    "    correct = 0.\n",
    "    total = 0.\n",
    "\n",
    "    res_model.train() # 将模型切换到训练模式，启用 dropout 等操作。\n",
    "    for i, data in enumerate(train_dataloader):\n",
    "        # 遍历训练数据加载器，data 包含一个批次的 inputs（输入图像）和 labels（对应的标签）。\n",
    "\n",
    "        # forward\n",
    "        inputs, labels = data\n",
    "        inputs, labels = inputs.to(device), labels.to(device)\n",
    "        outputs = res_model(inputs)\n",
    "\n",
    "        # 调整标签的形状\n",
    "        labels = labels.view(-1, 1)  # 确保标签的形状与输出一致\n",
    "\n",
    "        # backward\n",
    "        optimizer.zero_grad()\n",
    "        # 清空上一批次的梯度，防止累积。\n",
    "        loss = criterion(outputs, labels)\n",
    "        loss.backward()\n",
    "        # 通过自动求导计算梯度。\n",
    "\n",
    "        # update weights\n",
    "        optimizer.step()\n",
    "        # 使用优化器根据计算出的梯度更新模型参数。\n",
    "\n",
    "        # 打印训练信息\n",
    "        loss_mean += loss.item()        # 获取当前批次的损失值。\n",
    "        train_curve.append(loss.item()) # 将当前批次的损失值记录到 train_curve。\n",
    "        if (i+1) % log_interval == 0:\n",
    "            loss_mean = loss_mean / log_interval\n",
    "            print(\"Training: Epoch[{:0>3}/{:0>3}] Iteration[{:0>3}/{:0>3}] Loss: {:.4f}\".format(\n",
    "                epoch, MAX_EPOCH, i+1, len(train_dataloader), loss_mean))\n",
    "            loss_mean = 0.\n",
    "\n",
    "    scheduler.step()  # 更新学习率 调用学习率调度器，根据设置调整当前学习率（如按一定步长下降）。\n",
    "\n",
    "    # validate the model\n",
    "    if (epoch+1) % val_interval == 0:\n",
    "\n",
    "        correct_val = 0.\n",
    "        total_val = 0.\n",
    "        loss_val = 0.\n",
    "        res_model.eval() \n",
    "        \n",
    "        # 禁用自动求导，减少内存占用，加速计算。\n",
    "        with torch.no_grad():\n",
    "            for j, data in enumerate(test_dataloader):\n",
    "                inputs, labels = data\n",
    "                inputs, labels = inputs.to(device), labels.to(device)\n",
    "\n",
    "                outputs = res_model(inputs)\n",
    "               \n",
    "                # 调整标签的形状\n",
    "                labels = labels.view(-1, 1)  # 确保标签的形状与输出一致\n",
    "\n",
    "                loss = criterion(outputs, labels)\n",
    "\n",
    "                loss_val += loss.item()\n",
    "\n",
    "            loss_val_mean = loss_val / len(test_dataloader)\n",
    "            valid_curve.append(loss_val_mean)\n",
    "            print(\"Valid: Epoch[{:0>3}/{:0>3}] Iteration[{:0>3}/{:0>3}] Loss: {:.4f}\".format(\n",
    "                epoch, MAX_EPOCH, j+1, len(test_dataloader), loss_val_mean))\n",
    "\n",
    "        res_model.train()  # 将模型切换回训练模式\n"
   ]
  },
  {
   "cell_type": "code",
   "execution_count": 25,
   "id": "3e6e845c-15f6-4296-bbe9-1792f1882aad",
   "metadata": {},
   "outputs": [
    {
     "data": {
      "image/png": "[encoded data removed]",
      "text/plain": [
       "<Figure size 640x480 with 1 Axes>"
      ]
     },
     "metadata": {},
     "output_type": "display_data"
    }
   ],
   "source": [
    "train_x = range(len(train_curve))\n",
    "train_y = train_curve\n",
    "\n",
    "train_iters = len(train_dataloader)\n",
    "valid_x = np.arange(1, len(valid_curve)+1) * train_iters*val_interval # 由于valid中记录的是epochloss，需要对记录点进行转换到iterations\n",
    "valid_y = valid_curve\n",
    "\n",
    "plt.plot(train_x, train_y, label='Train')\n",
    "plt.plot(valid_x, valid_y, label='Valid')\n",
    "\n",
    "plt.legend(loc='upper right')\n",
    "plt.ylabel('loss value')\n",
    "plt.xlabel('Iteration')\n",
    "plt.show()"
   ]
  },
  {
   "cell_type": "code",
   "execution_count": null,
   "id": "499116ed-0095-4c54-9407-2606209c8f9e",
   "metadata": {},
   "outputs": [],
   "source": []
  },
  {
   "cell_type": "code",
   "execution_count": null,
   "id": "256e64c0-7244-4968-9eec-edbbb4ff9b38",
   "metadata": {},
   "outputs": [],
   "source": []
  },
  {
   "cell_type": "code",
   "execution_count": null,
   "id": "72631cd1-8d5c-40a0-8707-9bf042c31348",
   "metadata": {},
   "outputs": [],
   "source": []
  }
 ],
 "metadata": {
  "kernelspec": {
   "display_name": "base",
   "language": "python",
   "name": "python3"
  },
  "language_info": {
   "codemirror_mode": {
    "name": "ipython",
    "version": 3
   },
   "file_extension": ".py",
   "mimetype": "text/x-python",
   "name": "python",
   "nbconvert_exporter": "python",
   "pygments_lexer": "ipython3",
   "version": "3.12.4"
  }
 },
 "nbformat": 4,
 "nbformat_minor": 5
}
