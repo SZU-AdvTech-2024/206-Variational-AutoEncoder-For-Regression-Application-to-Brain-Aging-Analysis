{
 "cells": [
  {
   "cell_type": "code",
   "execution_count": 1,
   "id": "b0360980-92b6-416d-8cd9-f31208925244",
   "metadata": {},
   "outputs": [],
   "source": [
    "import torch\n",
    "import torchvision\n",
    "from torchvision import transforms\n",
    "from torch.utils.data import DataLoader\n",
    "import matplotlib.pyplot as plt\n",
    "from torchvision import datasets, transforms\n",
    "import os\n",
    "import numpy as np\n",
    "import torch.nn as nn\n",
    "from torch.utils.data import DataLoader\n",
    "import torchvision.transforms as transforms\n",
    "import torch.optim as optim\n",
    "from matplotlib import pyplot as plt\n",
    "import torchvision.models as models\n",
    "import random\n",
    "from PIL import Image\n",
    "from torch.utils.data import Dataset"
   ]
  },
  {
   "cell_type": "code",
   "execution_count": 2,
   "id": "995f9b32-fcf0-4a8d-a3c8-a2c407ce4bdc",
   "metadata": {},
   "outputs": [
    {
     "name": "stdout",
     "output_type": "stream",
     "text": [
      "Sorted Classes: ['-250', '-249', '-248', '-247', '-246', '-245', '-244', '-243', '-242', '-241', '-240', '-239', '-238', '-237', '-236', '-235', '-234', '-233', '-232', '-231', '-230', '-229', '-228', '-227', '-226', '-225', '-224', '-223', '-222', '-221', '-220', '-219', '-218', '-217', '-216', '-215', '-214', '-213', '-212', '-211', '-210', '-209', '-208', '-207', '-206', '-205', '-204', '-203', '-202', '-201', '-200', '-199', '-198', '-197', '-196', '-195', '-194', '-193', '-192', '-191', '-190', '-189', '-188', '-187', '-186', '-185', '-184', '-183', '-182', '-181', '-180', '-179', '-178', '-177', '-176', '-175', '-174', '-173', '-172', '-171', '-170', '-169', '-168', '-167', '-166', '-165', '-164', '-163', '-162', '-161', '-160', '-159', '-158', '-157', '-156', '-155', '-154', '-153', '-152', '-151', '-150', '-149', '-148', '-147', '-146', '-145', '-144', '-143', '-142', '-141', '-140', '-139', '-138', '-137', '-136', '-135', '-134', '-133', '-132', '-131', '-130', '-129', '-128', '-127', '-126', '-125', '-124', '-123', '-122', '-121', '-120', '-119', '-118', '-117', '-116', '-115', '-114', '-113', '-112', '-111', '-110', '-109', '-108', '-107', '-106', '-105', '-104', '-103', '-102', '-101', '-100', '-99', '-98', '-97', '-96', '-95', '-94', '-93', '-92', '-91', '-90', '-89', '-88', '-87', '-86', '-85', '-84', '-83', '-82', '-81', '-80', '-79', '-78', '-77', '-76', '-75', '-74', '-73', '-72', '-71', '-70', '-69', '-68', '-67', '-66', '-65', '-64', '-63', '-62', '-61', '-60', '-59', '-58', '-57', '-56', '-55', '-54', '-53', '-52', '-51', '-50', '-49', '-48', '-47', '-46', '-45', '-44', '-43', '-42', '-41', '-40', '-39', '-38', '-37', '-36', '-35', '-34', '-33', '-32', '-31', '-30', '-29', '-28', '-27', '-26', '-25', '-24', '-23', '-22', '-21', '-20', '-19', '-18', '-17', '-16', '-15', '-14', '-13', '-12', '-11', '-10', '-9', '-8', '-7', '-6', '-5', '-4', '-3', '-2', '-1', '0', '1', '2', '3', '4', '5', '6', '7', '8', '9', '10', '11', '12', '13', '14', '15', '16', '17', '18', '19', '20', '21', '22', '23', '24', '25', '26', '27', '28', '29', '30', '31', '32', '33', '34', '35', '36', '37', '38', '39', '40', '41', '42', '43', '44', '45', '46', '47', '48', '49', '50', '51', '52', '53', '54', '55', '56', '57', '58', '59', '60', '61', '62', '63', '64', '65', '66', '67', '68', '69', '70', '71', '72', '73', '74', '75', '76', '77', '78', '79', '80', '81', '82', '83', '84', '85', '86', '87', '88', '89', '90', '91', '92', '93', '94', '95', '96', '97', '98', '99', '100', '101', '102', '103', '104', '105', '106', '107', '108', '109', '110', '111', '112', '113', '114', '115', '116', '117', '118', '119', '120', '121', '122', '123', '124', '125', '126', '127', '128', '129', '130', '131', '132', '133', '134', '135', '136', '137', '138', '139', '140', '141', '142', '143', '144', '145', '146', '147', '148', '149', '150', '151', '152', '153', '154', '155', '156', '157', '158', '159', '160', '161', '162', '163', '164', '165', '166', '167', '168', '169', '170', '171', '172', '173', '174', '175', '176', '177', '178', '179', '180', '181', '182', '183', '184', '185', '186', '187', '188', '189', '190', '191', '192', '193', '194', '195', '196', '197', '198', '199', '200', '201', '202', '203', '204', '205', '206', '207', '208', '209', '210', '211', '212', '213', '214', '215', '216', '217', '218', '219', '220', '221', '222', '223', '224', '225', '226', '227', '228', '229', '230', '231', '232', '233', '234', '235', '236', '237', '238', '239', '240', '241', '242', '243', '244', '245', '246', '247', '248', '249', '250']\n",
      "训练集大小: 20040\n",
      "测试集大小: 5010\n"
     ]
    }
   ],
   "source": [
    "# 设置数据集路径\n",
    "total_dir = \"/Users/fcccasa/Downloads/R/img\"\n",
    "\n",
    "# 定义数据预处理\n",
    "transform = transforms.Compose([\n",
    "    transforms.Resize((224, 224)),\n",
    "    transforms.ToTensor(),\n",
    "    # transforms.Normalize(mean=[0.5, 0.5, 0.5], std=[0.5, 0.5, 0.5])\n",
    "])\n",
    "\n",
    "# 加载数据集\n",
    "total_data = datasets.ImageFolder(total_dir, transform)\n",
    "\n",
    "# 获取类别并按数字顺序排序\n",
    "def sort_key(class_name):\n",
    "    # 尝试将类别名称转换为整数，若失败则返回原字符串\n",
    "    try:\n",
    "        return int(class_name)  # 如果类别是数字，则按数字排序\n",
    "    except ValueError:\n",
    "        return class_name  # 如果类别是非数字，则按字母排序\n",
    "\n",
    "sorted_classes = sorted(total_data.classes, key=sort_key)\n",
    "\n",
    "# 更新 ImageFolder 的 class_to_idx 字典\n",
    "total_data.class_to_idx = {cls: idx for idx, cls in enumerate(sorted_classes)}\n",
    "\n",
    "print(\"Sorted Classes:\", sorted_classes)\n",
    "\n",
    "# 使用排序后的类名创建训练集和测试集索引\n",
    "train_indices = []\n",
    "test_indices = []\n",
    "\n",
    "# 遍历数据集中的每个类别（文件夹）\n",
    "for class_idx in range(len(sorted_classes)):\n",
    "    # 获取当前类别所有图像的索引\n",
    "    class_indices = [i for i, label in enumerate(total_data.targets) if label == class_idx]\n",
    "    \n",
    "    # 分割：前40个图像为训练集，剩下的为测试集\n",
    "    train_indices.extend(class_indices[:40])\n",
    "    test_indices.extend(class_indices[40:])\n",
    "\n",
    "# 使用索引创建训练集和测试集\n",
    "train_dataset = torch.utils.data.Subset(total_data, train_indices)\n",
    "test_dataset = torch.utils.data.Subset(total_data, test_indices)\n",
    "\n",
    "# 打印训练集和测试集的大小\n",
    "print(f'训练集大小: {len(train_dataset)}')\n",
    "print(f'测试集大小: {len(test_dataset)}')\n"
   ]
  },
  {
   "cell_type": "code",
   "execution_count": 3,
   "id": "7f465971-d3df-48ec-a494-806dccf4b75e",
   "metadata": {},
   "outputs": [],
   "source": [
    "train_dataloader = DataLoader(train_dataset, batch_size=128, shuffle=True)\n",
    "test_dataloader = DataLoader(test_dataset, batch_size=128, shuffle=False)"
   ]
  },
  {
   "cell_type": "code",
   "execution_count": 4,
   "id": "75a3530f-3cd2-4f24-9f44-765af4680443",
   "metadata": {},
   "outputs": [],
   "source": [
    "# 初始化\n",
    "num_classes = 1\n",
    "\n",
    "MAX_EPOCH = 10     \n",
    "LR = 0.001         \n",
    "log_interval = 100    # 每隔 1 个 训练批次（或 epoch）记录一次训练日志。 表示训练过程中，控制打印训练信息的频率。\n",
    "val_interval = 1    # 每隔 1 个 epoch 进行一次验证集的评估。验证集的评估是为了监控模型在验证集上的表现，从而避免过拟合。\n",
    "classes = 1         # 分类任务的类别数为 2。\n",
    "start_epoch = -1     \n",
    "lr_decay_step = 10   # 表示学习率的衰减步长。 每隔一定的 epoch（如 1）对学习率进行衰减，通常是为了使模型在后期更稳定地收敛。\n",
    "                    # 可结合优化器的学习率调度策略（如 StepLR）使用。"
   ]
  },
  {
   "cell_type": "code",
   "execution_count": 5,
   "id": "42ad0c40-7ac3-4b63-8aa8-c2c5e9a3779a",
   "metadata": {},
   "outputs": [
    {
     "name": "stderr",
     "output_type": "stream",
     "text": [
      "/opt/anaconda3/lib/python3.12/site-packages/torchvision/models/_utils.py:208: UserWarning: The parameter 'pretrained' is deprecated since 0.13 and may be removed in the future, please use 'weights' instead.\n",
      "  warnings.warn(\n",
      "/opt/anaconda3/lib/python3.12/site-packages/torchvision/models/_utils.py:223: UserWarning: Arguments other than a weight enum or `None` for 'weights' are deprecated since 0.13 and may be removed in the future. The current behavior is equivalent to passing `weights=AlexNet_Weights.IMAGENET1K_V1`. You can also use `weights=AlexNet_Weights.DEFAULT` to get the most up-to-date weights.\n",
      "  warnings.warn(msg)\n"
     ]
    },
    {
     "data": {
      "text/plain": [
       "AlexNet(\n",
       "  (features): Sequential(\n",
       "    (0): Conv2d(3, 64, kernel_size=(11, 11), stride=(4, 4), padding=(2, 2))\n",
       "    (1): ReLU(inplace=True)\n",
       "    (2): MaxPool2d(kernel_size=3, stride=2, padding=0, dilation=1, ceil_mode=False)\n",
       "    (3): Conv2d(64, 192, kernel_size=(5, 5), stride=(1, 1), padding=(2, 2))\n",
       "    (4): ReLU(inplace=True)\n",
       "    (5): MaxPool2d(kernel_size=3, stride=2, padding=0, dilation=1, ceil_mode=False)\n",
       "    (6): Conv2d(192, 384, kernel_size=(3, 3), stride=(1, 1), padding=(1, 1))\n",
       "    (7): ReLU(inplace=True)\n",
       "    (8): Conv2d(384, 256, kernel_size=(3, 3), stride=(1, 1), padding=(1, 1))\n",
       "    (9): ReLU(inplace=True)\n",
       "    (10): Conv2d(256, 256, kernel_size=(3, 3), stride=(1, 1), padding=(1, 1))\n",
       "    (11): ReLU(inplace=True)\n",
       "    (12): MaxPool2d(kernel_size=3, stride=2, padding=0, dilation=1, ceil_mode=False)\n",
       "  )\n",
       "  (avgpool): AdaptiveAvgPool2d(output_size=(6, 6))\n",
       "  (classifier): Sequential(\n",
       "    (0): Dropout(p=0.5, inplace=False)\n",
       "    (1): Linear(in_features=9216, out_features=4096, bias=True)\n",
       "    (2): ReLU(inplace=True)\n",
       "    (3): Dropout(p=0.5, inplace=False)\n",
       "    (4): Linear(in_features=4096, out_features=4096, bias=True)\n",
       "    (5): ReLU(inplace=True)\n",
       "    (6): Sequential(\n",
       "      (0): LazyLinear(in_features=0, out_features=1024, bias=True)\n",
       "      (1): ReLU()\n",
       "      (2): LazyLinear(in_features=0, out_features=128, bias=True)\n",
       "      (3): ReLU()\n",
       "      (4): LazyLinear(in_features=0, out_features=1, bias=True)\n",
       "    )\n",
       "  )\n",
       ")"
      ]
     },
     "execution_count": 5,
     "metadata": {},
     "output_type": "execute_result"
    }
   ],
   "source": [
    "device = device = torch.device(\"mps\")\n",
    "alexnet_model = models.alexnet(pretrained=True)\n",
    "num_ftrs = alexnet_model.classifier._modules[\"6\"].in_features # 获取最后一层的输入特征数，表示进入这一层的向量维度。\n",
    "alexnet_model.classifier._modules[\"6\"] = nn.Sequential(nn.LazyLinear(1024),\n",
    "                                                       nn.ReLU(),\n",
    "                                                       nn.LazyLinear(128),\n",
    "                                                       nn.ReLU(),\n",
    "                                                       nn.LazyLinear(1),)\n",
    "\n",
    "alexnet_model.to(device)"
   ]
  },
  {
   "cell_type": "code",
   "execution_count": 6,
   "id": "853e1e91-f6ce-47b1-bc4e-876be8739dcc",
   "metadata": {},
   "outputs": [],
   "source": [
    "criterion = nn.L1Loss()"
   ]
  },
  {
   "cell_type": "code",
   "execution_count": 7,
   "id": "fa9061de-19f5-41b3-8f62-42fa1bfac822",
   "metadata": {},
   "outputs": [],
   "source": [
    "optimizer = optim.Adam(alexnet_model.parameters(), lr=LR)  # 选择优化器\n",
    "scheduler = torch.optim.lr_scheduler.StepLR(optimizer, step_size=lr_decay_step, gamma=0.1)  # 设置学习率下降策略"
   ]
  },
  {
   "cell_type": "code",
   "execution_count": 8,
   "id": "156f77f4-3c43-4b67-ac45-694e67799039",
   "metadata": {},
   "outputs": [
    {
     "name": "stdout",
     "output_type": "stream",
     "text": [
      "Training: Epoch[000/010] Iteration[100/157] Loss: 93.0456\n",
      "Valid: Epoch[000/010] Iteration[040/040] Loss: 30.5158\n",
      "Training: Epoch[001/010] Iteration[100/157] Loss: 33.1911\n",
      "Valid: Epoch[001/010] Iteration[040/040] Loss: 32.0496\n",
      "Training: Epoch[002/010] Iteration[100/157] Loss: 26.0039\n",
      "Valid: Epoch[002/010] Iteration[040/040] Loss: 26.9258\n",
      "Training: Epoch[003/010] Iteration[100/157] Loss: 23.4705\n",
      "Valid: Epoch[003/010] Iteration[040/040] Loss: 20.9009\n",
      "Training: Epoch[004/010] Iteration[100/157] Loss: 21.3091\n",
      "Valid: Epoch[004/010] Iteration[040/040] Loss: 22.3871\n",
      "Training: Epoch[005/010] Iteration[100/157] Loss: 20.7962\n",
      "Valid: Epoch[005/010] Iteration[040/040] Loss: 16.5626\n",
      "Training: Epoch[006/010] Iteration[100/157] Loss: 17.3461\n",
      "Valid: Epoch[006/010] Iteration[040/040] Loss: 19.1604\n",
      "Training: Epoch[007/010] Iteration[100/157] Loss: 18.0354\n",
      "Valid: Epoch[007/010] Iteration[040/040] Loss: 19.6477\n",
      "Training: Epoch[008/010] Iteration[100/157] Loss: 16.9461\n",
      "Valid: Epoch[008/010] Iteration[040/040] Loss: 22.7858\n",
      "Training: Epoch[009/010] Iteration[100/157] Loss: 16.7925\n",
      "Valid: Epoch[009/010] Iteration[040/040] Loss: 16.1595\n"
     ]
    }
   ],
   "source": [
    "train_curve = list() \n",
    "valid_curve = list()\n",
    "\n",
    "for epoch in range(start_epoch + 1, MAX_EPOCH):\n",
    "\n",
    "    loss_mean = 0.\n",
    "    correct = 0.\n",
    "    total = 0.\n",
    "\n",
    "    alexnet_model.train() # 将模型切换到训练模式，启用 dropout 等操作。\n",
    "    for i, data in enumerate(train_dataloader):\n",
    "        # 遍历训练数据加载器，data 包含一个批次的 inputs（输入图像）和 labels（对应的标签）。\n",
    "\n",
    "        # forward\n",
    "        inputs, labels = data\n",
    "        inputs, labels = inputs.to(device), labels.to(device)\n",
    "        outputs = alexnet_model(inputs)\n",
    "\n",
    "        # 调整标签的形状\n",
    "        labels = labels.view(-1, 1)  # 确保标签的形状与输出一致\n",
    "\n",
    "        # backward\n",
    "        optimizer.zero_grad()\n",
    "        # 清空上一批次的梯度，防止累积。\n",
    "        loss = criterion(outputs, labels)\n",
    "        loss.backward()\n",
    "        # 通过自动求导计算梯度。\n",
    "\n",
    "        # update weights\n",
    "        optimizer.step()\n",
    "        # 使用优化器根据计算出的梯度更新模型参数。\n",
    "\n",
    "        # 打印训练信息\n",
    "        loss_mean += loss.item()        # 获取当前批次的损失值。\n",
    "        train_curve.append(loss.item()) # 将当前批次的损失值记录到 train_curve。\n",
    "        if (i+1) % log_interval == 0:\n",
    "            loss_mean = loss_mean / log_interval\n",
    "            print(\"Training: Epoch[{:0>3}/{:0>3}] Iteration[{:0>3}/{:0>3}] Loss: {:.4f}\".format(\n",
    "                epoch, MAX_EPOCH, i+1, len(train_dataloader), loss_mean))\n",
    "            loss_mean = 0.\n",
    "\n",
    "    scheduler.step()  # 更新学习率 调用学习率调度器，根据设置调整当前学习率（如按一定步长下降）。\n",
    "\n",
    "    # validate the model\n",
    "    if (epoch+1) % val_interval == 0:\n",
    "\n",
    "        correct_val = 0.\n",
    "        total_val = 0.\n",
    "        loss_val = 0.\n",
    "        alexnet_model.eval() \n",
    "        \n",
    "        # 禁用自动求导，减少内存占用，加速计算。\n",
    "        with torch.no_grad():\n",
    "            for j, data in enumerate(test_dataloader):\n",
    "                inputs, labels = data\n",
    "                inputs, labels = inputs.to(device), labels.to(device)\n",
    "\n",
    "                outputs = alexnet_model(inputs)\n",
    "               \n",
    "                # 调整标签的形状\n",
    "                labels = labels.view(-1, 1)  # 确保标签的形状与输出一致\n",
    "\n",
    "                loss = criterion(outputs, labels)\n",
    "\n",
    "                loss_val += loss.item()\n",
    "\n",
    "            loss_val_mean = loss_val / len(test_dataloader)\n",
    "            valid_curve.append(loss_val_mean)\n",
    "            print(\"Valid: Epoch[{:0>3}/{:0>3}] Iteration[{:0>3}/{:0>3}] Loss: {:.4f}\".format(\n",
    "                epoch, MAX_EPOCH, j+1, len(test_dataloader), loss_val_mean))\n",
    "\n",
    "        alexnet_model.train()  # 将模型切换回训练模式"
   ]
  },
  {
   "cell_type": "code",
   "execution_count": 9,
   "id": "82c43817-8705-4501-93fe-7303a0852f0b",
   "metadata": {},
   "outputs": [
    {
     "data": {
      "image/png": "[encoded data removed]",
      "text/plain": [
       "<Figure size 640x480 with 1 Axes>"
      ]
     },
     "metadata": {},
     "output_type": "display_data"
    }
   ],
   "source": [
    "train_x = range(len(train_curve))\n",
    "train_y = train_curve\n",
    "\n",
    "train_iters = len(train_dataloader)\n",
    "valid_x = np.arange(1, len(valid_curve)+1) * train_iters*val_interval # 由于valid中记录的是epochloss，需要对记录点进行转换到iterations\n",
    "valid_y = valid_curve\n",
    "\n",
    "plt.plot(train_x, train_y, label='Train')\n",
    "plt.plot(valid_x, valid_y, label='Valid')\n",
    "\n",
    "plt.legend(loc='upper right')\n",
    "plt.ylabel('loss value')\n",
    "plt.xlabel('Iteration')\n",
    "plt.show()"
   ]
  }
 ],
 "metadata": {
  "kernelspec": {
   "display_name": "Python 3 (ipykernel)",
   "language": "python",
   "name": "python3"
  },
  "language_info": {
   "codemirror_mode": {
    "name": "ipython",
    "version": 3
   },
   "file_extension": ".py",
   "mimetype": "text/x-python",
   "name": "python",
   "nbconvert_exporter": "python",
   "pygments_lexer": "ipython3",
   "version": "3.12.4"
  }
 },
 "nbformat": 4,
 "nbformat_minor": 5
}
